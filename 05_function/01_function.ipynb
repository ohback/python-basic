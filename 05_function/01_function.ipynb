{
 "cells": [
  {
   "cell_type": "markdown",
   "metadata": {},
   "source": [
    "### 함수"
   ]
  },
  {
   "cell_type": "code",
   "execution_count": 7,
   "metadata": {},
   "outputs": [
    {
     "name": "stdout",
     "output_type": "stream",
     "text": [
      "좋은 아침입니다 :) Merry Christmas!\n",
      "출력 하나 더~~~\n"
     ]
    }
   ],
   "source": [
    "def print_greeting():\n",
    "    print('좋은 아침입니다 :) Merry Christmas!')\n",
    "\n",
    "    return print('출력 하나 더~~~')\n",
    "\n",
    "print_greeting()\n"
   ]
  },
  {
   "cell_type": "code",
   "execution_count": 8,
   "metadata": {},
   "outputs": [
    {
     "name": "stdout",
     "output_type": "stream",
     "text": [
      "좋은 아침입니다 :) Merry Christmas!\n"
     ]
    }
   ],
   "source": [
    "# 파라미터 X, return O -> '좋은 아침입니다 :) Merry Christmas!' 반환\n",
    "\n",
    "def return_greeting():\n",
    "    return '좋은 아침입니다 :) Merry Christmas!'\n",
    "\n",
    "# greeting = return_greeting()\n",
    "# print(greeting)\n",
    "\n",
    "# return_greeting()\n",
    "\n",
    "print(return_greeting())"
   ]
  },
  {
   "cell_type": "code",
   "execution_count": 57,
   "metadata": {},
   "outputs": [
    {
     "name": "stdout",
     "output_type": "stream",
     "text": [
      "홍길동님, 좋은 아침입니다 :) Merry Christmas!\n"
     ]
    }
   ],
   "source": [
    "# 파라미터 O, return X -> print_greetin() 과 같은 기능, 파라미터로 인사할 사람 이름\n",
    "# '{이름}님, 좋은 아침입니다. :) Merry Christmas!'\n",
    "\n",
    "def print_name_greeting(name = '홍길동'):     # 파라미터(변수공간)에는 type이 없기 때문에 숫자도 가능함, 변수에 직접 값을 주게 되면 인자 값이 없어도 작동\n",
    "    print(f'{name}님, 좋은 아침입니다 :) Merry Christmas!')\n",
    "\n",
    "# name = '다람쥐'\n",
    "# print_name_greeting(name)\n",
    "\n",
    "# print_name_greeting('다람쥐')\n",
    "\n",
    "print_name_greeting()\n"
   ]
  },
  {
   "cell_type": "code",
   "execution_count": 15,
   "metadata": {},
   "outputs": [
    {
     "name": "stdout",
     "output_type": "stream",
     "text": [
      "원숭님 반갑습니다.\n"
     ]
    }
   ],
   "source": [
    "def you_name(you_name):\n",
    "    return f'{you_name}님 반갑습니다.'\n",
    "\n",
    "print(you_name(\"원숭\"))"
   ]
  },
  {
   "cell_type": "code",
   "execution_count": 3,
   "metadata": {},
   "outputs": [
    {
     "name": "stdout",
     "output_type": "stream",
     "text": [
      "원숭이님 안녕하세요!\n"
     ]
    }
   ],
   "source": [
    "def hello_name():\n",
    "    return f'원숭이님 안녕하세요!'\n",
    "\n",
    "hello = hello_name()\n",
    "\n",
    "print(hello)"
   ]
  },
  {
   "cell_type": "code",
   "execution_count": 2,
   "metadata": {},
   "outputs": [
    {
     "name": "stdout",
     "output_type": "stream",
     "text": [
      "원숭이님 안녕하세요!\n"
     ]
    }
   ],
   "source": [
    "def hello_name(name):\n",
    "    return f'{name}님 안녕하세요!'\n",
    "\n",
    "hello = hello_name(\"원숭이\")\n",
    "\n",
    "print(hello)"
   ]
  },
  {
   "cell_type": "code",
   "execution_count": 61,
   "metadata": {},
   "outputs": [
    {
     "ename": "SyntaxError",
     "evalue": "positional argument follows keyword argument (2707127253.py, line 11)",
     "output_type": "error",
     "traceback": [
      "\u001b[1;36m  Cell \u001b[1;32mIn[61], line 11\u001b[1;36m\u001b[0m\n\u001b[1;33m    print(return_name_greeting(name = '원숭이', '저녁'))\u001b[0m\n\u001b[1;37m                                                 ^\u001b[0m\n\u001b[1;31mSyntaxError\u001b[0m\u001b[1;31m:\u001b[0m positional argument follows keyword argument\n"
     ]
    }
   ],
   "source": [
    "# 파라미터 O, return O -> 파라미터로 인사할 사람 이름\n",
    "# '{이름}님, 좋은 아침입니다. :) Merry Christmas!'\n",
    "\n",
    "def return_name_greeting(name, time):      # 파라미터는 여러개 넣을 수 있음!\n",
    "    return f'{name}님, 좋은 {time}입니다. :) Merry Christmas!'\n",
    "\n",
    "print(return_name_greeting('홍길동', '저녁'))       #위치인자\n",
    "print(return_name_greeting(name = '호랑이', time = '저녁'))     # 파라미터의 개수가 많아지면 일일이 순서를 찾을 수 없으니니 이런식으로 키워드 인자를 줄 수도 있음! \n",
    "print(return_name_greeting(time = '저녁', name = '상어'))       # 파라미터의 순서 상관없음, 키워드 인자는 지정한 변수에 맞게 알아서 들어간다(키워드인자)\n",
    "print(return_name_greeting('토끼', time = '저녁'))      # 앞은 위치인자와 뒤는 키워드인자로로 사용하는 것도 가능\n",
    "print(return_name_greeting(name = '원숭이', '저녁'))    # 키워드인자 뒤에 위치인자는 불가능\n",
    "\n"
   ]
  },
  {
   "cell_type": "code",
   "execution_count": 34,
   "metadata": {},
   "outputs": [
    {
     "name": "stdout",
     "output_type": "stream",
     "text": [
      "좋은 아침입니다 :) Merry Christmas!\n"
     ]
    }
   ],
   "source": [
    "print_greeting()\n",
    "\n",
    "# print(print_greeting())"
   ]
  },
  {
   "cell_type": "code",
   "execution_count": 25,
   "metadata": {},
   "outputs": [
    {
     "name": "stdout",
     "output_type": "stream",
     "text": [
      "좋은 아침입니다 :) Merry Christmas!\n",
      "좋은 아침입니다 :) Merry Christmas!\n"
     ]
    }
   ],
   "source": [
    "greeting = return_greeting()\n",
    "print(greeting)\n",
    "\n",
    "print(return_greeting())\n"
   ]
  },
  {
   "cell_type": "code",
   "execution_count": 89,
   "metadata": {},
   "outputs": [
    {
     "name": "stdout",
     "output_type": "stream",
     "text": [
      "사자님, 오늘은 12월 25일 좋은 저녁입니다. :) Merry Christmas!\n",
      "사자님, 오늘은 12월 25일 좋은 저녁입니다. :) Merry Christmas!\n"
     ]
    },
    {
     "ename": "TypeError",
     "evalue": "try_name_greeting() got multiple values for argument 'name'",
     "output_type": "error",
     "traceback": [
      "\u001b[1;31m---------------------------------------------------------------------------\u001b[0m",
      "\u001b[1;31mTypeError\u001b[0m                                 Traceback (most recent call last)",
      "Cell \u001b[1;32mIn[89], line 8\u001b[0m\n\u001b[0;32m      6\u001b[0m \u001b[38;5;28mprint\u001b[39m(try_name_greeting(\u001b[38;5;124m'\u001b[39m\u001b[38;5;124m사자\u001b[39m\u001b[38;5;124m'\u001b[39m, date \u001b[38;5;241m=\u001b[39m \u001b[38;5;124m'\u001b[39m\u001b[38;5;124m12월 25일\u001b[39m\u001b[38;5;124m'\u001b[39m, time \u001b[38;5;241m=\u001b[39m \u001b[38;5;124m'\u001b[39m\u001b[38;5;124m저녁\u001b[39m\u001b[38;5;124m'\u001b[39m))\n\u001b[0;32m      7\u001b[0m \u001b[38;5;66;03m# print(try_name_greeting(name = '사자', date = '12월 25일', '저녁'))\u001b[39;00m\n\u001b[1;32m----> 8\u001b[0m \u001b[38;5;28mprint\u001b[39m(\u001b[43mtry_name_greeting\u001b[49m\u001b[43m(\u001b[49m\u001b[38;5;124;43m'\u001b[39;49m\u001b[38;5;124;43m12월 25일\u001b[39;49m\u001b[38;5;124;43m'\u001b[39;49m\u001b[43m,\u001b[49m\u001b[43m \u001b[49m\u001b[43mdate\u001b[49m\u001b[43m \u001b[49m\u001b[38;5;241;43m=\u001b[39;49m\u001b[43m \u001b[49m\u001b[38;5;124;43m'\u001b[39;49m\u001b[38;5;124;43m저녁\u001b[39;49m\u001b[38;5;124;43m'\u001b[39;49m\u001b[43m,\u001b[49m\u001b[43m \u001b[49m\u001b[43mname\u001b[49m\u001b[43m \u001b[49m\u001b[38;5;241;43m=\u001b[39;49m\u001b[43m \u001b[49m\u001b[38;5;124;43m'\u001b[39;49m\u001b[38;5;124;43m사자\u001b[39;49m\u001b[38;5;124;43m'\u001b[39;49m\u001b[43m)\u001b[49m)\n",
      "\u001b[1;31mTypeError\u001b[0m: try_name_greeting() got multiple values for argument 'name'"
     ]
    }
   ],
   "source": [
    "def try_name_greeting(name, date, time):      # 파라미터가가 여러개 일 때 위치인자, 키워드 인자 섞어서 사용해보기기\n",
    "    return f'{name}님, 오늘은 {date} 좋은 {time}입니다. :) Merry Christmas!'\n",
    "\n",
    "print(try_name_greeting(name = '사자', date = '12월 25일', time = '저녁'))\n",
    "# print(try_name_greeting(name = '사자', '12월 25일', time = '저녁'))\n",
    "print(try_name_greeting('사자', date = '12월 25일', time = '저녁'))\n",
    "# print(try_name_greeting(name = '사자', date = '12월 25일', '저녁'))\n"
   ]
  },
  {
   "cell_type": "markdown",
   "metadata": {},
   "source": [
    "### 패키징과 언패키징"
   ]
  },
  {
   "cell_type": "code",
   "execution_count": 68,
   "metadata": {},
   "outputs": [
    {
     "name": "stdout",
     "output_type": "stream",
     "text": [
      "다람쥐\n",
      "토끼\n",
      "여우\n",
      "호랑이\n",
      "늑대\n",
      "원숭이\n",
      "양\n"
     ]
    }
   ],
   "source": [
    "def call_animals(*animal_args):\n",
    "   for animal_name in animal_args:\n",
    "        print(animal_name)\n",
    "\n",
    "call_animals('다람쥐', '토끼', '여우', '호랑이', '늑대', '원숭이', '양')\n",
    "t"
   ]
  },
  {
   "cell_type": "code",
   "execution_count": 6,
   "metadata": {},
   "outputs": [
    {
     "name": "stdout",
     "output_type": "stream",
     "text": [
      "15\n"
     ]
    }
   ],
   "source": [
    "def number_sum(*num_argu):\n",
    "\n",
    "    total = 0\n",
    "\n",
    "    for num in num_argu:\n",
    "        total += num\n",
    "\n",
    "    return total\n",
    "\n",
    "print(number_sum(1, 2, 3, 4, 5))"
   ]
  },
  {
   "cell_type": "code",
   "execution_count": 71,
   "metadata": {},
   "outputs": [
    {
     "data": {
      "text/plain": [
       "2100"
      ]
     },
     "execution_count": 71,
     "metadata": {},
     "output_type": "execute_result"
    }
   ],
   "source": [
    "def multi_sum(num1, num2, num3, num4, num5):\n",
    "    return num1 + num2 + num3 + num4 + num5\n",
    "\n",
    "numbers = [2024, 12, 23, 11, 30]\n",
    "multi_sum(*numbers)\n",
    "\n",
    "\n"
   ]
  },
  {
   "cell_type": "code",
   "execution_count": 11,
   "metadata": {},
   "outputs": [
    {
     "name": "stdout",
     "output_type": "stream",
     "text": [
      "100\n",
      "<function f1 at 0x000001C5627ACD60>\n"
     ]
    }
   ],
   "source": [
    "def f1(b):\n",
    "    b = 200\n",
    "\n",
    "a = 100\n",
    "f1(a)    # 매개변수 b에는 a의 값이 복사되어서 담긴다. a에 대한 영향이 없다.\n",
    "print(a) \n",
    "print(f1)"
   ]
  },
  {
   "cell_type": "code",
   "execution_count": 86,
   "metadata": {},
   "outputs": [
    {
     "name": "stdout",
     "output_type": "stream",
     "text": [
      "여우\n",
      "호랑이\n",
      "늑대\n",
      "원숭이\n",
      "양\n"
     ]
    }
   ],
   "source": [
    "def call_animals(boss, sub_boss, *animal_args):\n",
    "   for animal_name in animal_args:\n",
    "        print(animal_name)\n",
    "\n",
    "call_animals('다람쥐', '토끼', '여우', '호랑이', '늑대', '원숭이', '양')\n"
   ]
  },
  {
   "cell_type": "code",
   "execution_count": 75,
   "metadata": {},
   "outputs": [
    {
     "name": "stdout",
     "output_type": "stream",
     "text": [
      "8\n"
     ]
    }
   ],
   "source": [
    "add = lambda x, y: x + y\n",
    "print(add(3, 5))\n",
    "\n",
    "def add(x, y):\n",
    "    return x + y"
   ]
  },
  {
   "cell_type": "code",
   "execution_count": 84,
   "metadata": {},
   "outputs": [
    {
     "data": {
      "text/plain": [
       "8"
      ]
     },
     "execution_count": 84,
     "metadata": {},
     "output_type": "execute_result"
    }
   ],
   "source": [
    " (lambda x, y: x + y)(3, 5)\n",
    "\n"
   ]
  },
  {
   "cell_type": "code",
   "execution_count": 85,
   "metadata": {},
   "outputs": [
    {
     "name": "stdout",
     "output_type": "stream",
     "text": [
      "30\n"
     ]
    }
   ],
   "source": [
    "add2 = lambda x, y: x + y\n",
    "print(add2(10, 20))"
   ]
  },
  {
   "cell_type": "markdown",
   "metadata": {},
   "source": [
    "### 실습"
   ]
  },
  {
   "cell_type": "markdown",
   "metadata": {},
   "source": [
    "## **문제 1: 자기소개 하기**\n",
    "\n",
    "**\"다람쥐는 IT 회사 첫 출근 날, 자기소개를 준비했다.\"**\n",
    "\n",
    "1. `introduce()`라는 함수를 만들어 **\"안녕하세요, 저는 다람쥐 신입사원입니다!\"**라는 메시지를 출력하세요.\n",
    "2. 함수를 호출하여 다람쥐의 자기소개를 출력하세요."
   ]
  },
  {
   "cell_type": "code",
   "execution_count": 12,
   "metadata": {},
   "outputs": [
    {
     "name": "stdout",
     "output_type": "stream",
     "text": [
      "안녕하세요, 저는 다람쥐 신입사원입니다.\n"
     ]
    }
   ],
   "source": [
    "def introduce():\n",
    "    print(f'안녕하세요, 저는 다람쥐 신입사원입니다.')\n",
    "    \n",
    "introduce()"
   ]
  },
  {
   "cell_type": "code",
   "execution_count": 94,
   "metadata": {},
   "outputs": [
    {
     "name": "stdout",
     "output_type": "stream",
     "text": [
      "안녕하세요, 저는 다람쥐 신입사원입니다!\n"
     ]
    }
   ],
   "source": [
    "def introduce():\n",
    "    print(\"안녕하세요, 저는 다람쥐 신입사원입니다!\")\n",
    "\n",
    "introduce()\n"
   ]
  },
  {
   "cell_type": "markdown",
   "metadata": {},
   "source": [
    "## **문제 2: 출근 체크하기**\n",
    "\n",
    "**\"다람쥐는 출근할 때 출근부에 이름을 적어야 한다.\"**\n",
    "\n",
    "1. `check_in(name)`이라는 함수를 만들어 매개변수 `name`을 입력받아 다음과 같이 출력하세요.\n",
    "    - **\"[이름]님, 출근 체크 완료!\"**\n",
    "2. 함수를 호출해 **\"다람쥐\"**를 출근 체크하세요."
   ]
  },
  {
   "cell_type": "code",
   "execution_count": 13,
   "metadata": {},
   "outputs": [
    {
     "name": "stdout",
     "output_type": "stream",
     "text": [
      "다람쥐님, 출근 체크 완료!\n"
     ]
    }
   ],
   "source": [
    "def check_in(name):\n",
    "    print(f'{name}님, 출근 체크 완료!')\n",
    "\n",
    "check_in(\"다람쥐\")\n",
    "    "
   ]
  },
  {
   "cell_type": "code",
   "execution_count": 98,
   "metadata": {},
   "outputs": [
    {
     "name": "stdout",
     "output_type": "stream",
     "text": [
      "다람쥐님, 출근 체크 완료!\n"
     ]
    }
   ],
   "source": [
    "def check_in(name):\n",
    "    return f\"{name}님, 출근 체크 완료!\"\n",
    "\n",
    "print(check_in('다람쥐'))"
   ]
  },
  {
   "cell_type": "markdown",
   "metadata": {},
   "source": [
    "## **문제 3: 업무 시간 계산하기**\n",
    "\n",
    "**\"다람쥐는 오늘 근무한 시간을 계산하고 싶다.\"**\n",
    "\n",
    "1. `work_hours(start, end)`라는 함수를 만들어 매개변수 `start`(출근 시간)와 `end`(퇴근 시간)를 입력받아 근무 시간을 계산하세요.\n",
    "    - 근무 시간 = `end - start`\n",
    "2. 반환된 근무 시간을 출력하세요.\n",
    "    - 출력 예시: **\"오늘 근무한 시간은 [근무 시간]시간입니다.\"**"
   ]
  },
  {
   "cell_type": "code",
   "execution_count": 14,
   "metadata": {},
   "outputs": [
    {
     "name": "stdout",
     "output_type": "stream",
     "text": [
      "오늘 근무한 시간은 12시간입니다.\n"
     ]
    }
   ],
   "source": [
    "def work_hours(start, end):\n",
    "    wrk_hrs = end - start\n",
    "    return f\"오늘 근무한 시간은 {wrk_hrs}시간입니다.\"\n",
    "\n",
    "print(work_hours(6, 18))"
   ]
  },
  {
   "cell_type": "code",
   "execution_count": 100,
   "metadata": {},
   "outputs": [
    {
     "name": "stdout",
     "output_type": "stream",
     "text": [
      "오늘 근무한 시간은 3시간입니다.\n"
     ]
    }
   ],
   "source": [
    "def work_hours(start, end):\n",
    "    time = end - start\n",
    "    print(f\"오늘 근무한 시간은 {time}시간입니다.\")\n",
    "\n",
    "work_hours(3, 6)"
   ]
  },
  {
   "cell_type": "code",
   "execution_count": 114,
   "metadata": {},
   "outputs": [
    {
     "name": "stdout",
     "output_type": "stream",
     "text": [
      "오늘 근무한 시간은 9시간입니다.\n"
     ]
    }
   ],
   "source": [
    "def work_hours(start, end):\n",
    "    return end - start\n",
    "\n",
    "print(f\"오늘 근무한 시간은 {work_hours(9, 18)}시간입니다.\")"
   ]
  },
  {
   "cell_type": "markdown",
   "metadata": {},
   "source": [
    "## **문제 4: 점심 메뉴 추천**\n",
    "\n",
    "**\"점심시간, 다람쥐는 팀원들에게 점심 메뉴를 추천해준다.\"**\n",
    "\n",
    "1. `recommend_menu(*menus)`라는 함수를 만들어 여러 개의 점심 메뉴를 매개변수로 전달받으세요.\n",
    "2. 랜덤하게 하나의 메뉴를 선택하고 반환하세요.\n",
    "    - 출력 예시: **\"오늘의 점심 메뉴는 [선택된 메뉴]입니다!\"**\n",
    "    - 힌트: `random.choice()`를 사용하면 랜덤 선택이 가능합니다."
   ]
  },
  {
   "cell_type": "code",
   "execution_count": 24,
   "metadata": {},
   "outputs": [
    {
     "data": {
      "text/plain": [
       "'햄버거'"
      ]
     },
     "execution_count": 24,
     "metadata": {},
     "output_type": "execute_result"
    }
   ],
   "source": [
    "import random\n",
    "\n",
    "def recommend_menu(*menus):\n",
    "    for menu in menus:\n",
    "        print(f\"오늘의 점심 메뉴는 {menu}입니다.\")\n",
    "\n",
    "menu = ['피자', '햄버거', '우동']\n",
    "\n",
    "random.choice(menu)\n"
   ]
  },
  {
   "cell_type": "code",
   "execution_count": 32,
   "metadata": {},
   "outputs": [
    {
     "name": "stdout",
     "output_type": "stream",
     "text": [
      "오늘의 점심 메뉴는 우동입니다.\n"
     ]
    }
   ],
   "source": [
    "import random\n",
    "\n",
    "def recommend_menu(*menus):\n",
    "    return random.choice(menus)\n",
    "\n",
    "whatmenu = recommend_menu(\"빵\", \"계란\", \"우동\", \"짜장면\")\n",
    "\n",
    "print(f\"오늘의 점심 메뉴는 {whatmenu}입니다.\")"
   ]
  },
  {
   "cell_type": "code",
   "execution_count": 126,
   "metadata": {},
   "outputs": [
    {
     "name": "stdout",
     "output_type": "stream",
     "text": [
      "오늘의 점심 메뉴는 짜장면입니다!\n"
     ]
    }
   ],
   "source": [
    "import random\n",
    "\n",
    "def recommend_menu(*menus):\n",
    "    return random.choice(menus)\n",
    "\n",
    "recommended_menu = recommend_menu('햄버거', '치킨', '피자', '짜장면', '포케')\n",
    "\n",
    "print(f\"오늘의 점심 메뉴는 {recommended_menu}입니다!\")\n"
   ]
  },
  {
   "cell_type": "code",
   "execution_count": 121,
   "metadata": {},
   "outputs": [
    {
     "name": "stdout",
     "output_type": "stream",
     "text": [
      "오늘의 점심 메뉴는 피자입니다!\n"
     ]
    }
   ],
   "source": [
    "import random\n",
    "\n",
    "def recommend_menu(*menus):\n",
    "    return random.choice(menus)\n",
    "\n",
    "recommended_menu = recommend_menu('햄버거', '치킨', '피자', '짜장면', '포케')\n",
    "\n",
    "print(f\"오늘의 점심 메뉴는 {recommended_menu}입니다!\")\n"
   ]
  },
  {
   "cell_type": "markdown",
   "metadata": {},
   "source": [
    "## **문제 5: 오후 커피 마시기**\n",
    "\n",
    "**\"오후에 졸린 다람쥐는 커피를 마시려고 한다.\"**\n",
    "\n",
    "1. `coffee_time()`이라는 함수를 만들어 다음과 같은 문자열을 반환하세요.\n",
    "    - **\"오후 3시입니다. 커피 한 잔 하세요!\"**\n",
    "2. 반환된 문자열을 출력하세요."
   ]
  },
  {
   "cell_type": "code",
   "execution_count": 33,
   "metadata": {},
   "outputs": [
    {
     "name": "stdout",
     "output_type": "stream",
     "text": [
      "오후 3시입니다. 커피 한 잔 하세요!\n"
     ]
    }
   ],
   "source": [
    "def coffee_time():\n",
    "    return f'오후 3시입니다. 커피 한 잔 하세요!'\n",
    "\n",
    "print(coffee_time())\n",
    "\n",
    "\n",
    "\n",
    "\n"
   ]
  },
  {
   "cell_type": "code",
   "execution_count": 127,
   "metadata": {},
   "outputs": [
    {
     "data": {
      "text/plain": [
       "'오후 3시입니다. 커피 한 잔 하세요!'"
      ]
     },
     "execution_count": 127,
     "metadata": {},
     "output_type": "execute_result"
    }
   ],
   "source": [
    "def coffee_time():\n",
    "    return f'오후 3시입니다. 커피 한 잔 하세요!'\n",
    "\n",
    "coffee_time()"
   ]
  },
  {
   "cell_type": "markdown",
   "metadata": {},
   "source": [
    "## **문제 6: 업무 성과 분석하기**\n",
    "\n",
    "**\"다람쥐는 오늘의 업무 성과를 보고해야 한다.\"**\n",
    "\n",
    "1. `work_report(tasks_done)`이라는 함수를 만들어 오늘 처리한 업무 수를 매개변수로 받으세요.\n",
    "2. 함수는 다음 두 값을 반환합니다.\n",
    "    - `tasks_done`: 처리한 업무 수\n",
    "    - `status`: 업무 성과 평가 (10개 이상: \"우수\", 5~9개: \"보통\", 4개 이하: \"노력 필요\")\n",
    "3. 반환된 값을 사용해 다음 메시지를 출력하세요.\n",
    "    - **\"오늘 처리한 업무는 [업무 수]개입니다. 성과 평가: [평가]\"**"
   ]
  },
  {
   "cell_type": "code",
   "execution_count": 44,
   "metadata": {},
   "outputs": [
    {
     "name": "stdout",
     "output_type": "stream",
     "text": [
      "오늘 처리한 업무 수는 10개입니다. 성과 평가: 우수\n"
     ]
    }
   ],
   "source": [
    "def work_report(tasks_done):\n",
    "    \n",
    "    status = ''\n",
    "    if tasks_done >= 10:\n",
    "        status = \"우수\"\n",
    "    elif tasks_done >= 5:\n",
    "        status = \"보통\"\n",
    "    else:\n",
    "        status = \"노력 필요\"\n",
    "\n",
    "    return tasks_done, status\n",
    "    \n",
    "tasks_done, status = work_report(10)\n",
    "\n",
    "print(f\"오늘 처리한 업무 수는 {tasks_done}개입니다. 성과 평가: {status}\")"
   ]
  },
  {
   "cell_type": "code",
   "execution_count": 155,
   "metadata": {},
   "outputs": [
    {
     "name": "stdout",
     "output_type": "stream",
     "text": [
      "오늘 처리한 업무는 7입니다. 성과 평가:보통\n"
     ]
    }
   ],
   "source": [
    "def work_report(tasks_done):\n",
    "\n",
    "# status값 정해줘야되는데\n",
    "# 조건에 따라 status가 달라지니까 -> if / 삼항연산자\n",
    "    status = ''     #조건에 만족하지 못할 경우를 위해 기본값을 준다\n",
    "    if tasks_done >= 10:\n",
    "        status = '우수'\n",
    "    elif 5<=tasks_done<=9:      # 일반적으로 단항으로 사용한다. and로 끊어서 tasks_done >= 5 and tasks_done <=9,\n",
    "        status = '보통'         # 그래프로 그려봤을 때 if가 10이상 이므로 사실상 tasks_done >= 5 만으로 충분함\n",
    "    else:\n",
    "        status = '노력 필요'\n",
    "\n",
    "    return tasks_done, status\n",
    "\n",
    "tasks_done, status = work_report(7)\n",
    "\n",
    "print(f'오늘 처리한 업무는 {tasks_done}입니다. 성과 평가:{status}')\n"
   ]
  },
  {
   "cell_type": "code",
   "execution_count": 156,
   "metadata": {},
   "outputs": [
    {
     "name": "stdout",
     "output_type": "stream",
     "text": [
      "오늘 처리한 업무는 7입니다. 성과 평가:보통\n"
     ]
    }
   ],
   "source": [
    "def work_report(tasks_done):\n",
    "\n",
    "    status = '우수' if tasks_done >= 10 else('보통' if tasks_done >=5 else '노력 필요요') \n",
    "\n",
    "    return tasks_done, status\n",
    "\n",
    "tasks_done, status = work_report(7)\n",
    "\n",
    "print(f'오늘 처리한 업무는 {tasks_done}입니다. 성과 평가:{status}')"
   ]
  },
  {
   "cell_type": "markdown",
   "metadata": {},
   "source": [
    "## **문제 7: 월급 계산 및 세금 공제**\n",
    "\n",
    "**\"다람쥐는 첫 월급을 계산하고 세금을 공제해야 한다.\"**\n",
    "\n",
    "1. `calculate_salary(base_salary, bonus)`라는 함수를 만들어 기본 월급과 보너스를 매개변수로 받으세요.\n",
    "2. 총 월급을 계산하고, 세금은 총 월급의 10%로 공제하세요.\n",
    "3. 함수는 다음 두 값을 반환합니다.\n",
    "    - `net_salary`: 실수령액 (총 월급 - 세금)\n",
    "    - `tax`: 세금 공제액\n",
    "4. 반환된 값을 사용해 다음 메시지를 출력하세요.\n",
    "    - **\"세전 월급: [총 월급]원, 세금: [세금]원, 실수령액: [실수령액]원\"**"
   ]
  },
  {
   "cell_type": "code",
   "execution_count": 48,
   "metadata": {},
   "outputs": [
    {
     "name": "stdout",
     "output_type": "stream",
     "text": [
      "세전월급: 1500원, 세금: 150.0원, 실수령액: 1350.0원\n"
     ]
    }
   ],
   "source": [
    "def calculate_salary(base_salary, bonus):\n",
    "\n",
    "    total_salary = base_salary + bonus\n",
    "    tax = total_salary * 0.1\n",
    "    net_salary = total_salary - tax\n",
    "\n",
    "    return total_salary, tax, net_salary\n",
    "\n",
    "\n",
    "new_total, new_tax, new_net = calculate_salary(1000, 500)\n",
    "\n",
    "print(f'세전월급: {new_total}원, 세금: {new_tax}원, 실수령액: {new_net}원')"
   ]
  },
  {
   "cell_type": "code",
   "execution_count": null,
   "metadata": {},
   "outputs": [],
   "source": [
    "def calculate_salary(base_salary, bonus):\n",
    "\n",
    "    total_salary = base_salary + bonus\n",
    "    tax = total_salary * 0.1\n",
    "    net_salary = total_salary - tax\n",
    "\n",
    "    return total_salary, tax, net_salary\n",
    "\n",
    "\n",
    "calculate_salary(1000, 500)\n",
    "\n",
    "print(f'세전월급: {new_total}원, 세금: {new_tax}원, 실수령액: {new_net}원')"
   ]
  },
  {
   "cell_type": "code",
   "execution_count": 158,
   "metadata": {},
   "outputs": [
    {
     "name": "stdout",
     "output_type": "stream",
     "text": [
      "세전 월급: 15000원, 세금: 1500원, 실수령액: 13500원\n"
     ]
    }
   ],
   "source": [
    "def calculate_salary(base_salary, bonus):\n",
    "\n",
    "    total_salary = base_salary + bonus\n",
    "    tax = total_salary * 0.1\n",
    "    net_salary = total_salary - tax\n",
    "    \n",
    "    return net_salary, tax\n",
    "\n",
    "\n",
    "base_salary = 10000\n",
    "bonus = 5000\n",
    "\n",
    "money = calculate_salary(base_salary, bonus)        \n",
    "\n",
    "print(f\"세전 월급: {int(base_salary + bonus)}원, 세금: {int(money[1])}원, 실수령액: {int(money[0])}원\")"
   ]
  }
 ],
 "metadata": {
  "kernelspec": {
   "display_name": "pystudy_env",
   "language": "python",
   "name": "python3"
  },
  "language_info": {
   "codemirror_mode": {
    "name": "ipython",
    "version": 3
   },
   "file_extension": ".py",
   "mimetype": "text/x-python",
   "name": "python",
   "nbconvert_exporter": "python",
   "pygments_lexer": "ipython3",
   "version": "3.12.8"
  }
 },
 "nbformat": 4,
 "nbformat_minor": 2
}
