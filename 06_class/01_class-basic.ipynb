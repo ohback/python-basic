{
 "cells": [
  {
   "cell_type": "markdown",
   "metadata": {},
   "source": [
    "### 클래스"
   ]
  },
  {
   "cell_type": "code",
   "execution_count": 7,
   "metadata": {},
   "outputs": [],
   "source": [
    "class Student:\n",
    "\n",
    "    # 1. 클래스 속성(변수와 같은 방식으로 그러나 클래스 하위에)\n",
    "    dream = '취업'\n",
    "\n",
    "    # 2. 생성자(also method)\n",
    "    def __init__(self, name, phone):     # 코드블럭을 적지 않으면 에러뜸\n",
    "        self.name = name\n",
    "        self.phone = phone\n",
    "\n",
    "    # 3. 메서드\n",
    "    def study(self):\n",
    "        print('오늘도 열심히 공부하는 9기 학생!')\n"
   ]
  },
  {
   "cell_type": "code",
   "execution_count": 8,
   "metadata": {},
   "outputs": [
    {
     "name": "stdout",
     "output_type": "stream",
     "text": [
      "취업\n",
      "홍길동 01012345678\n",
      "오늘도 열심히 공부하는 9기 학생!\n",
      "취업\n"
     ]
    }
   ],
   "source": [
    "student = Student('홍길동', '01012345678')\n",
    "\n",
    "print(student.dream)\n",
    "print(student.name, student.phone)\n",
    "student.study()\n",
    "\n",
    "print(Student.dream)"
   ]
  },
  {
   "cell_type": "code",
   "execution_count": 9,
   "metadata": {},
   "outputs": [
    {
     "name": "stdout",
     "output_type": "stream",
     "text": [
      "취업\n",
      "오늘도 열심히 공부하는 9기 학생!\n"
     ]
    }
   ],
   "source": [
    "student = Student('호빵맨', '11100002222')     # 변수에 생성한 인스턴스 담기\n",
    "\n",
    "print(student.dream)    # student.dream 만 쓰면 출력되지 않음 why? dream 에 '취업'이 저장되어있는 것이지 print는 하란 말은 없음\n",
    "student.study()         # print() 따로 써주지 않아도 이미 def 로 study(self): print 로 정의 되어있음"
   ]
  },
  {
   "cell_type": "code",
   "execution_count": 10,
   "metadata": {},
   "outputs": [
    {
     "ename": "TypeError",
     "evalue": "Student.__init__() missing 2 required positional arguments: 'name' and 'phone'",
     "output_type": "error",
     "traceback": [
      "\u001b[1;31m---------------------------------------------------------------------------\u001b[0m",
      "\u001b[1;31mTypeError\u001b[0m                                 Traceback (most recent call last)",
      "Cell \u001b[1;32mIn[10], line 1\u001b[0m\n\u001b[1;32m----> 1\u001b[0m student \u001b[38;5;241m=\u001b[39m \u001b[43mStudent\u001b[49m\u001b[43m(\u001b[49m\u001b[43m)\u001b[49m   \u001b[38;5;66;03m# 변수에 생성한 인스턴스 담기\u001b[39;00m\n\u001b[0;32m      2\u001b[0m student_two \u001b[38;5;241m=\u001b[39m Student()\n\u001b[0;32m      4\u001b[0m \u001b[38;5;28mprint\u001b[39m(student)\n",
      "\u001b[1;31mTypeError\u001b[0m: Student.__init__() missing 2 required positional arguments: 'name' and 'phone'"
     ]
    }
   ],
   "source": [
    "student = Student()   # 변수에 생성한 인스턴스 담기\n",
    "student_two = Student()\n",
    "\n",
    "print(student)\n",
    "print(student_two)\n"
   ]
  },
  {
   "cell_type": "markdown",
   "metadata": {},
   "source": [
    "---"
   ]
  },
  {
   "cell_type": "code",
   "execution_count": 11,
   "metadata": {},
   "outputs": [],
   "source": [
    "class Student:\n",
    "\n",
    "    # 1. 생성자\n",
    "    def __init__(self, name, phone):\n",
    "        self.dream = ['취업']\n",
    "        self.name = name\n",
    "        self.phone = phone\n",
    "\n",
    "    # 3. 메서드\n",
    "    def study(self):\n",
    "        print('오늘도 열심히 공부하는 9기 학생!')\n",
    "\n",
    "    def introduce(self):\n",
    "        print(f'저는 {self.name}이구요. 전화번호는 {self.phone}입니다. 제가 이루고 싶은 목표는! {self.dream}')\n",
    "\n",
    "\n"
   ]
  },
  {
   "cell_type": "code",
   "execution_count": 13,
   "metadata": {},
   "outputs": [
    {
     "name": "stdout",
     "output_type": "stream",
     "text": [
      "저는 원숭이이구요. 전화번호는 01012345678입니다. 제가 이루고 싶은 목표는! ['취업']\n",
      "저는 원숭이이구요. 전화번호는 01012345678입니다. 제가 이루고 싶은 목표는! ['취업', '창업']\n",
      "저는 호랑이이구요. 전화번호는 01000001122입니다. 제가 이루고 싶은 목표는! ['취업']\n",
      "저는 원숭이이구요. 전화번호는 01012345678입니다. 제가 이루고 싶은 목표는! ['취업', '창업']\n"
     ]
    }
   ],
   "source": [
    "student1 = Student('원숭이', '01012345678')\n",
    "student2 = Student('호랑이', '01000001122')\n",
    "\n",
    "\n",
    "student1.introduce()\n",
    "student1.dream.append('창업')\n",
    "student1.introduce()\n",
    "\n",
    "student2.introduce()\n",
    "\n",
    "student1.introduce()\n"
   ]
  },
  {
   "cell_type": "markdown",
   "metadata": {},
   "source": [
    "### **문제 1: 클래스 속성, 인스턴스 속성 테스트**\n",
    "\n",
    "다람쥐는 이직 준비를 위해 자기소개서를 작성해야 합니다. `Squirrel`이라는 클래스를 만들어 다람쥐의 기본 정보를 설정하세요.\n",
    "\n",
    "1. 클래스 속성 `species`를 설정하여 \"다람쥐\"로 초기화하세요.\n",
    "2. 생성자를 통해 인스턴스 속성 `name`과 `current_job`을 설정하세요.\n",
    "3. 메서드 `introduce`를 만들어 이름과 현재 직업을 소개하는 문자열을 반환하세요.\n",
    "4. 다른 인스턴스를 생성해도 `species`는 공유되지만, `name`과 `current_job`은 서로 독립적임을 확인하세요."
   ]
  },
  {
   "cell_type": "code",
   "execution_count": 4,
   "metadata": {},
   "outputs": [
    {
     "name": "stdout",
     "output_type": "stream",
     "text": [
      "다람쥐\n",
      "이름: 몽키, 직업: 선생님\n",
      "다람쥐\n",
      "이름: 람쥐, 직업: 학생생\n"
     ]
    }
   ],
   "source": [
    "class Squirrel:\n",
    "    species = \"다람쥐\"\n",
    "\n",
    "    def __init__(self, name, current_job):\n",
    "        self.name = name\n",
    "        self.current_job = current_job\n",
    "\n",
    "    def introduce(self):\n",
    "        return f'이름: {self.name}, 직업: {self.current_job}'\n",
    "\n",
    "squirrel = Squirrel(\"몽키\", \"선생님\")\n",
    "squirrel2 = Squirrel(\"람쥐\", \"학생생\")\n",
    "\n",
    "print(squirrel.species)\n",
    "print(squirrel.introduce())\n",
    "print(squirrel2.species)\n",
    "print(squirrel2.introduce())\n",
    "\n",
    "\n"
   ]
  },
  {
   "cell_type": "code",
   "execution_count": 24,
   "metadata": {},
   "outputs": [
    {
     "name": "stdout",
     "output_type": "stream",
     "text": [
      "다람쥐\n",
      "이름: 멋쟁이, 직업: 전사\n",
      "다람쥐\n",
      "이름: 예쁜이, 직업: 마법사\n"
     ]
    }
   ],
   "source": [
    "class Squirrel:\n",
    "\n",
    "    species = \"다람쥐\"\n",
    "\n",
    "\n",
    "    def __init__(self, name, current_job):\n",
    "        self.name = name\n",
    "        self.current_job = current_job\n",
    "\n",
    "    def introduce(self):\n",
    "        return f\"이름: {self.name}, 직업: {self.current_job}\"\n",
    "    \n",
    "\n",
    "first_squirrel = Squirrel(\"멋쟁이\", \"전사\")\n",
    "second_squirrel = Squirrel(\"예쁜이\", \"마법사\")\n",
    "\n",
    "print(first_squirrel.species)\n",
    "print(first_squirrel.introduce())\n",
    "print(second_squirrel.species)\n",
    "print(second_squirrel.introduce())\n"
   ]
  },
  {
   "cell_type": "code",
   "execution_count": 16,
   "metadata": {},
   "outputs": [
    {
     "name": "stdout",
     "output_type": "stream",
     "text": [
      "다람쥐\n",
      "이름: 람쥐쥐, 직업: 선생님\n",
      "다람쥐\n",
      "이름: 몽키, 직업: 학생생\n"
     ]
    }
   ],
   "source": [
    "class Squirrel:\n",
    "   \n",
    "    species = \"다람쥐\"\n",
    "\n",
    "    def __init__(self, name, current_job):     \n",
    "        self.name = name\n",
    "        self.current_job = current_job\n",
    "\n",
    "    def introduce(self):\n",
    "        return f'이름: {self.name}, 직업: {self.current_job}'\n",
    "\n",
    "\n",
    "squirrel1 = Squirrel(\"람쥐쥐\", \"선생님\")\n",
    "squirrel2 = Squirrel(\"몽키\", \"학생생\")\n",
    "\n",
    "print(Squirrel.species)\n",
    "print(squirrel1.introduce())\n",
    "\n",
    "print(Squirrel.species)\n",
    "print(squirrel2.introduce())\n",
    "\n",
    "\n",
    "        "
   ]
  },
  {
   "cell_type": "markdown",
   "metadata": {},
   "source": [
    "### **문제 2: 클래스 속성과 인스턴스 속성의 차이**\n",
    "\n",
    "다람쥐는 이직 준비를 하며 다양한 직업 스킬을 학습 중입니다. 클래스 속성과 인스턴스 속성의 차이를 확인하세요.\n",
    "\n",
    "1. `Character` 클래스를 생성하세요.\n",
    "2. 클래스 속성 `skills`를 정의하여 빈 리스트로 초기화하세요.\n",
    "3. 생성자에서 인스턴스 속성 `skills`를 별도로 초기화하세요.\n",
    "4. `add_skill` 메서드에서 클래스 속성이 아닌 인스턴스 속성에 스킬을 추가하도록 수정하세요."
   ]
  },
  {
   "cell_type": "code",
   "execution_count": 39,
   "metadata": {},
   "outputs": [],
   "source": [
    "# class Character:        # 클래스 생성\n",
    "\n",
    "#     skills = []         # 클래스 속성 정의, 빈리스트로 초기화\n",
    "\n",
    "#     def __init__(self):     # 생성자 생성\n",
    "#         self.skills = []    # 인스턴스 속성 초기화\n",
    "\n",
    "#     def add_skill(self, skill):     # 메서드 생성\n",
    "#         self.skills.append(skill)   # 스킬을 추가하도록 인스턴스 속성에 append 입력\n",
    "\n",
    "# character1 = Character()        # 인스턴스 생성\n",
    "# print(character1.skills)        # 인스턴스 출력\n",
    "# character1.add_skill(\"도토리 빨리 먹기\")    # 인스턴스 속성에 스킬 추가\n",
    "# print(character1.skills)        # 인스턴스 재출력\n"
   ]
  },
  {
   "cell_type": "code",
   "execution_count": 10,
   "metadata": {},
   "outputs": [
    {
     "name": "stdout",
     "output_type": "stream",
     "text": [
      "[]\n",
      "['도토리 빨리 먹기']\n",
      "[]\n"
     ]
    }
   ],
   "source": [
    "class Character:        # 클래스 생성\n",
    "\n",
    "    skills = []         # 클래스 속성 정의, 빈리스트로 초기화\n",
    "\n",
    "    def __init__(self):     # 생성자 생성\n",
    "        self.skills = []    # 인스턴스 속성 초기화\n",
    "\n",
    "    def add_skill(self, skill):     # 메서드 생성\n",
    "        self.skills.append(skill)   # 스킬을 추가하도록 인스턴스 속성에 append 입력\n",
    "\n",
    "character1 = Character()        # 인스턴스 생성\n",
    "print(character1.skills)        # 인스턴스 출력\n",
    "character1.add_skill(\"도토리 빨리 먹기\")    # 인스턴스 속성에 스킬 추가\n",
    "print(character1.skills)        # 인스턴스 재출력\n",
    "\n",
    "print(Character.skills)\n"
   ]
  },
  {
   "cell_type": "code",
   "execution_count": 1,
   "metadata": {},
   "outputs": [
    {
     "name": "stdout",
     "output_type": "stream",
     "text": [
      "character1의 스킬: ['검술']\n",
      "character2의 스킬: ['나무오르기기']\n",
      "Character1 클래스의 스킬: []\n",
      "Character2 클래스의 스킬: []\n"
     ]
    }
   ],
   "source": [
    "class Character:\n",
    "    \n",
    "    skills = []     # 빈리스트로 초기화화\n",
    "\n",
    "    def __init__(self):     # __init__(self, skill)\n",
    "        self.skills = []\n",
    "\n",
    "    def add_skill(self, skill):    \n",
    "        self.skills.append(skill)\n",
    "          \n",
    "\n",
    "character1 = Character()\n",
    "character2 = Character()\n",
    "character1.add_skill(\"검술\")\n",
    "character2.add_skill(\"나무오르기기\")\n",
    "\n",
    "print(f\"character1의 스킬: {character1.skills}\")\n",
    "print(f\"character2의 스킬: {character2.skills}\")\n",
    "\n",
    "print(f\"Character1 클래스의 스킬: {Character.skills}\")\n",
    "print(f\"Character2 클래스의 스킬: {Character.skills}\")\n"
   ]
  },
  {
   "cell_type": "markdown",
   "metadata": {},
   "source": [
    "### **문제 3: 인스턴스 속성과 클래스 속성의 우선순위**\n",
    "\n",
    "다람쥐는 이직을 위해 별명을 여러 개 사용합니다. 클래스 속성으로 `nickname`을 설정하지만, 각 인스턴스마다 별명을 변경할 수 있습니다.\n",
    "\n",
    "1. `Character` 클래스에 클래스 속성 `nickname`을 설정하세요.\n",
    "2. 생성자에서 인스턴스 속성 `nickname`을 설정하세요.\n",
    "3. 클래스 속성과 인스턴스 속성이 충돌할 때, 인스턴스 속성이 우선됨을 확인하세요."
   ]
  },
  {
   "cell_type": "code",
   "execution_count": 11,
   "metadata": {},
   "outputs": [
    {
     "name": "stdout",
     "output_type": "stream",
     "text": [
      "바나나\n",
      "바나나\n",
      "몽돌이\n"
     ]
    }
   ],
   "source": [
    "class Character:\n",
    "\n",
    "    nickname = '바나나'\n",
    "\n",
    "\n",
    "    def __init__(self, nickname):\n",
    "        self.nickname = nickname\n",
    "\n",
    "\n",
    "monkey1 = Character(\"몽돌이\")\n",
    "\n",
    "print(Character.nickname)\n",
    "print(monkey1.__class__.nickname)\n",
    "print(monkey1.nickname)\n",
    "\n",
    "\n"
   ]
  },
  {
   "cell_type": "code",
   "execution_count": 18,
   "metadata": {},
   "outputs": [
    {
     "name": "stdout",
     "output_type": "stream",
     "text": [
      "람쥐\n",
      "원숭이바나나나\n"
     ]
    }
   ],
   "source": [
    "class Character:\n",
    "    nickname = \"원숭이바나나나\"\n",
    "\n",
    "    def __init__(self, nickname):\n",
    "        self.nickname = nickname\n",
    "         \n",
    "         \n",
    "    my_Character = Character\n",
    "\n",
    "\n",
    "squirrel1 = Character(\"람쥐\")\n",
    "squirrel2 = Character(\"몽키\")\n",
    "\n",
    "\n",
    "print(squirrel1.nickname)\n",
    "print(Character.nickname)\n",
    "\n",
    "        \n",
    "        "
   ]
  },
  {
   "cell_type": "markdown",
   "metadata": {},
   "source": [
    "### **문제 4: 네임스페이스 테스트 - 전역과 로컬**\n",
    "\n",
    "다람쥐는 이직 준비 도구를 사용하며, 전역 변수와 로컬 변수를 관리합니다. `namespace_test` 함수를 작성해 네임스페이스를 테스트하세요.\n",
    "\n",
    "1. 전역 변수 `tool`을 \"연필\"로 설정하세요.\n",
    "2. 함수 `namespace_test` 내부에 로컬 변수 `tool`을 \"키보드\"로 설정하고, `global` 키워드를 사용해 전역 변수를 \"펜\"으로 수정하세요.\n",
    "3. 함수 내부에서 로컬 변수와 전역 변수의 값을 출력하세요."
   ]
  },
  {
   "cell_type": "code",
   "execution_count": 12,
   "metadata": {},
   "outputs": [
    {
     "name": "stdout",
     "output_type": "stream",
     "text": [
      "키보드\n",
      "펜\n",
      "펜\n"
     ]
    }
   ],
   "source": [
    "tool = \"연필\"\n",
    "\n",
    "\n",
    "def namespace_test():\n",
    "\n",
    "    local_tool = \"키보드\"\n",
    "    global tool\n",
    "    tool = \"펜\"\n",
    "\n",
    "    print(local_tool)\n",
    "    print(tool)\n",
    "\n",
    "namespace_test()\n",
    "print(tool)\n",
    "\n"
   ]
  },
  {
   "cell_type": "code",
   "execution_count": 96,
   "metadata": {},
   "outputs": [],
   "source": [
    "# tool = \"연필\"\n",
    "\n",
    "# def namespace_test():\n",
    "#     global tool\n",
    "#     tool = \"펜\"\n",
    "#     lo_tool = \"키보드\"\n",
    "\n",
    "#     print(lo_tool)  # 로컬 변수 출력력\n",
    "#     print(tool)     # 전역 변수가 로컬 변수로 바뀌었는지 확인인\n",
    "\n",
    "# namespace_test()\n",
    "# print(tool)     # 전역 변수 출력 -> 바뀜뀜\n",
    "\n",
    "\n",
    "\n",
    "    "
   ]
  },
  {
   "cell_type": "markdown",
   "metadata": {},
   "source": [
    "### **문제 5: 네임스페이스 테스트 - 클래스와 인스턴스**\n",
    "\n",
    "다람쥐는 이직 준비 중 클래스를 통해 도구를 관리합니다. `Toolbox` 클래스를 만들어 네임스페이스를 테스트하세요.\n",
    "\n",
    "1. 클래스 속성 `tools`를 [\"노트북\", \"책상\"]으로 초기화하세요.\n",
    "2. 생성자를 통해 인스턴스 속성 `tools`를 설정하고, 객체마다 다른 도구를 가질 수 있도록 설정하세요.\n",
    "3. `add_tool` 메서드를 만들어 클래스 속성에 새 도구를 추가하세요."
   ]
  },
  {
   "cell_type": "code",
   "execution_count": 102,
   "metadata": {},
   "outputs": [
    {
     "name": "stdout",
     "output_type": "stream",
     "text": [
      "['연필']\n"
     ]
    }
   ],
   "source": [
    "# class Toolbox:\n",
    "#     tools = [\"노트북\", \"책상\"]\n",
    "\n",
    "#     def __init__(self):\n",
    "#         self.tools = []\n",
    "\n",
    "#     def add_tool(self, tool):\n",
    "#         self.tools.append(tool)\n",
    "\n",
    "\n",
    "# toolbox = Toolbox()\n",
    "# toolbox.add_tool(\"연필\")\n",
    "# print(toolbox.tools)\n",
    "\n",
    "    "
   ]
  },
  {
   "cell_type": "code",
   "execution_count": 109,
   "metadata": {},
   "outputs": [
    {
     "name": "stdout",
     "output_type": "stream",
     "text": [
      "[]\n",
      "['노트북', '책상']\n",
      "[]\n",
      "['노트북', '책상', '연필']\n"
     ]
    }
   ],
   "source": [
    "class Toolbox:\n",
    "    tools = [\"노트북\", \"책상\"]\n",
    "\n",
    "    def __init__(self):\n",
    "        self.tools = []\n",
    "\n",
    "    def add_tool(self, tool):\n",
    "        __class__.tools.append(tool)\n",
    "\n",
    "\n",
    "toolbox = Toolbox()\n",
    "\n",
    "print(toolbox.tools)\n",
    "print(Toolbox.tools)\n",
    "\n",
    "toolbox.add_tool(\"연필\")\n",
    "print(toolbox.tools)\n",
    "print(Toolbox.tools)\n",
    "\n",
    "    "
   ]
  },
  {
   "cell_type": "code",
   "execution_count": 41,
   "metadata": {},
   "outputs": [],
   "source": [
    "class Toolbax:\n",
    "    tools = [\"노트북\", \"책상\"]\n",
    "\n",
    "    def __init__(self):\n",
    "        self.tools = []\n",
    "\n",
    "    def add_tool(self, tool):\n",
    "        __class__.tools.append(tool)\n",
    "        "
   ]
  },
  {
   "cell_type": "code",
   "execution_count": 44,
   "metadata": {},
   "outputs": [
    {
     "name": "stdout",
     "output_type": "stream",
     "text": [
      "[]\n",
      "['노트북', '책상']\n",
      "[]\n",
      "['노트북', '책상', '키보드']\n"
     ]
    }
   ],
   "source": [
    "toolbox = Toolbax()\n",
    "print(toolbox.tools)\n",
    "print(Toolbax.tools)\n",
    "\n",
    "toolbox.add_tool('키보드')\n",
    "print(toolbox.tools)\n",
    "print(Toolbax.tools)"
   ]
  },
  {
   "cell_type": "markdown",
   "metadata": {},
   "source": [
    "### **문제 6: 네임스페이스 테스트 - nonlocal**\n",
    "\n",
    "다람쥐는 이직 준비 중 추가적인 정보가 필요합니다. 중첩 함수와 `nonlocal` 키워드를 사용해 바깥 함수의 변수를 수정하세요.\n",
    "\n",
    "1. 함수 `nested_function`을 작성하세요.\n",
    "2. 바깥 함수의 변수 `status`를 \"작성 중\"으로 초기화하세요.\n",
    "3. 중첩 함수에서 `status`를 \"완료\"로 수정하세요."
   ]
  },
  {
   "cell_type": "code",
   "execution_count": 19,
   "metadata": {},
   "outputs": [
    {
     "name": "stdout",
     "output_type": "stream",
     "text": [
      "작성중\n",
      "완료\n"
     ]
    }
   ],
   "source": [
    "def nested_function():\n",
    "\n",
    "    status = \"작성중\"\n",
    "\n",
    "    \n",
    "    def inner_function():\n",
    "        nonlocal status\n",
    "        status = \"완료\"\n",
    "\n",
    "    print(status)\n",
    "    inner_function()\n",
    "    print(status)\n",
    "\n",
    "\n",
    "nested_function()\n"
   ]
  },
  {
   "cell_type": "code",
   "execution_count": 115,
   "metadata": {},
   "outputs": [
    {
     "name": "stdout",
     "output_type": "stream",
     "text": [
      "작성중\n",
      "완료\n"
     ]
    }
   ],
   "source": [
    "\n",
    "def nested_function():\n",
    "    status = \"작성중\"\n",
    "\n",
    "    def inner_nested_function():\n",
    "        nonlocal status\n",
    "        status = \"완료\"\n",
    "\n",
    "    print(status)\n",
    "    inner_nested_function()\n",
    "    print(status)\n",
    "\n",
    "nested_function()\n"
   ]
  },
  {
   "cell_type": "code",
   "execution_count": null,
   "metadata": {},
   "outputs": [],
   "source": []
  },
  {
   "cell_type": "code",
   "execution_count": 3,
   "metadata": {},
   "outputs": [
    {
     "name": "stdout",
     "output_type": "stream",
     "text": [
      "Lalala~\n"
     ]
    }
   ],
   "source": [
    "class Singer:                      # 가수를 정의하겠느니라…\n",
    "    def sing(self):                # 노래하기 메서드\n",
    "        return \"Lalala~\"\n",
    "    \n",
    "taeji = Singer()                   # 태지를 만들어랏!\n",
    "print(taeji.sing())                       # 노래 한 곡 부탁해요~"
   ]
  },
  {
   "cell_type": "code",
   "execution_count": 4,
   "metadata": {},
   "outputs": [
    {
     "name": "stdout",
     "output_type": "stream",
     "text": [
      "mymoney\n",
      "mymoney\n"
     ]
    }
   ],
   "source": [
    "your_money = 'mymoney'\n",
    "my_money = 'mymoney'\n",
    "\n",
    "print(your_money)\n",
    "print(my_money)"
   ]
  }
 ],
 "metadata": {
  "kernelspec": {
   "display_name": "pystudy_env",
   "language": "python",
   "name": "python3"
  },
  "language_info": {
   "codemirror_mode": {
    "name": "ipython",
    "version": 3
   },
   "file_extension": ".py",
   "mimetype": "text/x-python",
   "name": "python",
   "nbconvert_exporter": "python",
   "pygments_lexer": "ipython3",
   "version": "3.12.8"
  }
 },
 "nbformat": 4,
 "nbformat_minor": 2
}
