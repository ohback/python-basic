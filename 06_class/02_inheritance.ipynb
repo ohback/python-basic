{
 "cells": [
  {
   "cell_type": "markdown",
   "metadata": {},
   "source": [
    "### 상속"
   ]
  },
  {
   "cell_type": "code",
   "execution_count": 11,
   "metadata": {},
   "outputs": [],
   "source": [
    "class Person:\n",
    "\n",
    "    def __init__(self, name, phone):   # 생성자ㅏㅏㅏㅏㅏㅏㅏㅏㅏㅏㅏㅏㅏㅏㅏㅏㅏㅏ\n",
    "        self.name = name\n",
    "        self.phone = phone\n",
    "    \n",
    "    def __str__(self):\n",
    "        return f'<Person {self.name}>'\n"
   ]
  },
  {
   "cell_type": "code",
   "execution_count": 14,
   "metadata": {},
   "outputs": [],
   "source": [
    "class Student(Person):\n",
    "\n",
    "    def __init__(self, name, phone, hobby):\n",
    "        # self.name = name\n",
    "        # Person.__init__(self, name)  -> 클래스를 호출할 땐 self 함께께\n",
    "        super().__init__(name, phone)    #  -> 부모클래스로 호출할 땐 self 없이 사용하려는 인자만\n",
    "   \n",
    "        self.hobby = hobby\n",
    "\n",
    "    "
   ]
  },
  {
   "cell_type": "code",
   "execution_count": 15,
   "metadata": {},
   "outputs": [
    {
     "name": "stdout",
     "output_type": "stream",
     "text": [
      "홍길동\n",
      "<Person 홍길동>\n",
      "김둘리 01012345678 파이썬 공부하기\n",
      "<Person 김둘리>\n",
      "박또치 01098765432 열심히 공부하기\n",
      "<Person 박또치>\n"
     ]
    }
   ],
   "source": [
    "p1 = Person('홍길동', '11111111111')\n",
    "print(p1.name)\n",
    "print(p1)\n",
    "\n",
    "s1 = Student('김둘리', '01012345678', '파이썬 공부하기')\n",
    "s2 = Student('박또치', '01098765432', '열심히 공부하기')\n",
    "\n",
    "print(s1.name, s1.phone, s1.hobby)\n",
    "print(s1)\n",
    "print(s2.name, s2.phone, s2.hobby)\n",
    "print(s2)"
   ]
  },
  {
   "cell_type": "markdown",
   "metadata": {},
   "source": [
    "---"
   ]
  },
  {
   "cell_type": "markdown",
   "metadata": {},
   "source": [
    "### 다중 상속"
   ]
  },
  {
   "cell_type": "code",
   "execution_count": 17,
   "metadata": {},
   "outputs": [],
   "source": [
    "class Person:\n",
    "\n",
    "    fingers = 10\n",
    "    eyes = 2\n",
    "\n",
    "\n",
    "    def introduce(self):\n",
    "        return '저는 사람입니다.'\n",
    "    \n",
    "\n",
    "class Animal:\n",
    "   \n",
    "    fur = True\n",
    "\n",
    "\n",
    "    def introduce(self):\n",
    "        return '저는 동물입니다.'\n",
    "    \n",
    "\n",
    "class BanInBanSu(Person, Animal):\n",
    "    pass\n"
   ]
  },
  {
   "cell_type": "code",
   "execution_count": 22,
   "metadata": {},
   "outputs": [
    {
     "name": "stdout",
     "output_type": "stream",
     "text": [
      "10 2 True\n",
      "저는 사람입니다.\n"
     ]
    }
   ],
   "source": [
    "b1 = BanInBanSu()\n",
    "\n",
    "print(b1.fingers, b1.eyes, b1.fur)\n",
    "print(b1.introduce())       # 부모 클래스가 여럿일 때, 왼쪽부터 찾는다. (Person, Animal)로 쓰면 Person부터 탐색색"
   ]
  },
  {
   "cell_type": "markdown",
   "metadata": {},
   "source": [
    "---"
   ]
  },
  {
   "cell_type": "markdown",
   "metadata": {},
   "source": [
    "### 오버라이딩"
   ]
  },
  {
   "cell_type": "code",
   "execution_count": 32,
   "metadata": {},
   "outputs": [],
   "source": [
    "class Animal:\n",
    "\n",
    "    species = '동물'\n",
    "\n",
    "\n",
    "    def introduce(self):\n",
    "        print('동물의 왕국에 오신 것을 환영합니다 :) ')\n",
    "\n",
    "\n",
    "class Mammalia(Animal):\n",
    "    \n",
    "    species = '포유류'      # 여기서 species가 동물 -> 포유류로 오버라이딩됨됨\n",
    "\n",
    "    def has_fur(self):\n",
    "        return True\n",
    "    \n",
    "\n",
    "class Squirrel(Mammalia):\n",
    "\n",
    "    name = \"다람쥐\"\n",
    "\n",
    "\n",
    "    def eat(self):\n",
    "        print('도토리는 정말 맛있어 냠냠냠')\n",
    "\n",
    "\n",
    "class SquirrelTeacher(Squirrel):\n",
    "    \n",
    "    def introduce(self):    # 오버라이딩 된 것은 내가 가진 것을 쓴다. 위로 찾아가서 찾는게 아님 덮어쓴거임.\n",
    "        print('안녕하세요 다람쥐 강사입니다.')\n",
    "\n"
   ]
  },
  {
   "cell_type": "code",
   "execution_count": 39,
   "metadata": {},
   "outputs": [
    {
     "name": "stdout",
     "output_type": "stream",
     "text": [
      "안녕하세요 다람쥐 강사입니다.\n",
      "다람쥐\n",
      "도토리는 정말 맛있어 냠냠냠\n",
      "포유류\n",
      "True\n",
      "포유류\n",
      "안녕하세요 다람쥐 강사입니다.\n"
     ]
    }
   ],
   "source": [
    "st = SquirrelTeacher()\n",
    "\n",
    "st.introduce()\n",
    "print(st.name)\n",
    "st.eat()\n",
    "\n",
    "print(st.species)\n",
    "print(st.has_fur())\n",
    "\n",
    "print(st.species)\n",
    "st.introduce()"
   ]
  },
  {
   "cell_type": "code",
   "execution_count": 42,
   "metadata": {},
   "outputs": [
    {
     "data": {
      "text/plain": [
       "(__main__.SquirrelTeacher,\n",
       " __main__.Squirrel,\n",
       " __main__.Mammalia,\n",
       " __main__.Animal,\n",
       " object)"
      ]
     },
     "execution_count": 42,
     "metadata": {},
     "output_type": "execute_result"
    }
   ],
   "source": [
    "SquirrelTeacher.__mro__     # 다중상속 일 때, 순서를 보여주는 메서드, 모든 클래스는 기본적으로 object를 상속(__init__, __str__ 등)"
   ]
  },
  {
   "cell_type": "markdown",
   "metadata": {},
   "source": [
    "---"
   ]
  },
  {
   "cell_type": "markdown",
   "metadata": {},
   "source": [
    "### 문제 1: **기본 상속을 활용한 클래스 생성**\n",
    "\n",
    "다람쥐는 이직을 준비하며 새로운 직업군을 탐색하고 있습니다. 다람쥐의 기본적인 정보를 담는 `Person` 클래스를 만들고, 이를 상속받는 `Candidate` 클래스를 생성하세요.\n",
    "\n",
    "1. `Person` 클래스:\n",
    "    - 클래스 속성 `national`은 \"Korea\"로 설정합니다.\n",
    "    - 메서드 `introduce`는 `\"안녕하세요, 저는 한국에서 왔습니다.\"`를 반환합니다.\n",
    "2. `Candidate` 클래스:\n",
    "    - `Person` 클래스를 상속받습니다.\n",
    "    - 생성자에서 이름(`name`)과 관심 분야(`field`)를 매개변수로 받아 저장합니다.\n",
    "    - 메서드 `introduce`를 오버라이드하여 `\"안녕하세요, 저는 [name]입니다. [field] 분야에 관심이 있습니다.\"`를 반환합니다."
   ]
  },
  {
   "cell_type": "code",
   "execution_count": 63,
   "metadata": {},
   "outputs": [
    {
     "name": "stdout",
     "output_type": "stream",
     "text": [
      "안녕하세요, 저는 다람쥐입니다. 코딩 분야에 관심이 있습니다.\n"
     ]
    }
   ],
   "source": [
    "class Person:       # 생성자를 주지 않았기 때문에 p = Person() 으로 작동함함\n",
    "    national = \"Korea\"\n",
    "\n",
    "\n",
    "    def introduce(self):\n",
    "        return \"안녕하세요, 저는 한국에서 왔습니다.\"\n",
    "\n",
    "\n",
    "class Candidate(Person):        # 생성자 __init__ 을 주었기 때문에 c = Candidate 이 작동하지 않음, c = Candidate(name, field) 형태가 되어야함함\n",
    "\n",
    "    def __init__(self, name, field):        # 여기서 내가 한 실수 -> def introduce에 오버라이드 하지 않고 __init__에 반환값을 주어 출력이 안되었음\n",
    "        self.name = name\n",
    "        self.field = field\n",
    "\n",
    "    def introduce(self):\n",
    "        return f\"안녕하세요, 저는 {self.name}입니다. {self.field} 분야에 관심이 있습니다.\"\n",
    "    \n",
    "\n",
    "people = Candidate(\"다람쥐\", \"코딩\")\n",
    "people.introduce()\n",
    "print(people.introduce())\n"
   ]
  },
  {
   "cell_type": "markdown",
   "metadata": {},
   "source": [
    "### 문제 2: **다중 상속을 활용한 클래스 생성**\n",
    "\n",
    "다람쥐는 이직을 준비하며 여러 강사님들의 도움을 받고 있습니다. 강사의 역할을 분리한 클래스를 만들어 상속 구조를 테스트하세요.\n",
    "\n",
    "1. `Mentor` 클래스:\n",
    "    - 메서드 `guide`는 `\"이직 준비를 도와드립니다.\"`를 반환합니다.\n",
    "2. `Lecturer` 클래스:\n",
    "    - 메서드 `teach`는 `\"이직에 필요한 기술을 가르쳐드립니다.\"`를 반환합니다.\n",
    "3. `Coach` 클래스:\n",
    "    - `Mentor`와 `Lecturer` 클래스를 다중 상속받습니다.\n",
    "    - 메서드 `support`는 `\"여러 방면으로 지원을 아끼지 않겠습니다.\"`를 반환합니다."
   ]
  },
  {
   "cell_type": "code",
   "execution_count": 64,
   "metadata": {},
   "outputs": [],
   "source": [
    "class Mentor:\n",
    "\n",
    "    def guide(self):\n",
    "        return \"이직 준비를 도와드립니다.\"\n",
    "\n",
    "\n",
    "class Lecture:\n",
    "\n",
    "    def teach(self):\n",
    "        return \"이직에 필요한 기술을 가르쳐드립니다.\"\n",
    "\n",
    "\n",
    "class Coach(Mentor, Lecture):\n",
    "    \n",
    "    def suppoer(self):\n",
    "        return \"여러 방면으로 지원을 아끼지 않겠습니다.\"\n"
   ]
  },
  {
   "cell_type": "code",
   "execution_count": 67,
   "metadata": {},
   "outputs": [
    {
     "name": "stdout",
     "output_type": "stream",
     "text": [
      "<bound method Mentor.guide of <__main__.Mentor object at 0x0000022F433CA060>>\n",
      "<bound method Lecture.teach of <__main__.Lecture object at 0x0000022F433C98E0>>\n",
      "<bound method Mentor.guide of <__main__.Coach object at 0x0000022F433C8A70>>\n",
      "<bound method Lecture.teach of <__main__.Coach object at 0x0000022F433C8A70>>\n"
     ]
    }
   ],
   "source": [
    "m = Mentor()        #인스턴스 만들기\n",
    "l = Lecture()\n",
    "c = Coach()\n",
    "\n",
    "\n",
    "print(m.guide)\n",
    "# print(m.teach)\n",
    "# print(m.coach)\n",
    "\n",
    "# print(l.guide)\n",
    "print(l.teach)\n",
    "# print(l.coach)\n",
    "\n",
    "print(c.guide)\n",
    "print(c.teach)\n",
    "# print(c.coach)"
   ]
  },
  {
   "cell_type": "markdown",
   "metadata": {},
   "source": [
    "### 문제 3: **부모 클래스 속성 오버라이딩**\n",
    "\n",
    "다람쥐는 이직 준비를 위해 개인적인 특성을 강조하고 있습니다. 부모 클래스의 메서드를 오버라이딩하여 각기 다른 인스턴스를 만들어보세요.\n",
    "\n",
    "1. `Person` 클래스:\n",
    "    - 속성 `name`과 `national`을 생성자로 받아 저장합니다.\n",
    "    - 메서드 `introduce`는 `\"안녕하세요, 저는 [name]입니다. 저는 [national]에서 왔습니다.\"`를 반환합니다.\n",
    "2. `Candidate` 클래스:\n",
    "    - `Person` 클래스를 상속받습니다.\n",
    "    - `introduce` 메서드를 오버라이드하여 `\"안녕하세요, 제 이름은 [name]이고, 이직 준비 중입니다.\"`를 반환합니다."
   ]
  },
  {
   "cell_type": "code",
   "execution_count": 75,
   "metadata": {},
   "outputs": [
    {
     "name": "stdout",
     "output_type": "stream",
     "text": [
      "안녕하세요, 저는 원숭이입니다. 저는 한국에서 왔습니다.\n",
      "안녕하세요, 제 이름은 다람쥐이고, 이직 준비 중입니다.\n"
     ]
    }
   ],
   "source": [
    "class Person:\n",
    "\n",
    "    def __init__(self, name, national):\n",
    "        self.name = name        # 인스턴턴스 속성 초기화화\n",
    "        self.national = national\n",
    "\n",
    "    def introduce(self):\n",
    "        return f\"안녕하세요, 저는 {self.name}입니다. 저는 {self.national}에서 왔습니다.\"\n",
    "    \n",
    "\n",
    "class Candidate(Person):\n",
    "\n",
    "    def introduce(self):\n",
    "        return f\"안녕하세요, 제 이름은 {self.name}이고, 이직 준비 중입니다.\"\n",
    "    \n",
    "\n",
    "\n",
    "squirrel1 = Person(\"원숭이\", \"한국\")\n",
    "print(squirrel1.introduce())\n",
    "\n",
    "squirrel2 = Candidate(\"다람쥐\", \"한국\")\n",
    "print(squirrel2.introduce())\n"
   ]
  },
  {
   "cell_type": "markdown",
   "metadata": {},
   "source": [
    "### 문제 4: **상속의 특성 통합 테스트**\n",
    "\n",
    "다람쥐는 강사님들의 지도를 받으며 다양한 분야에서 경험을 쌓고 있습니다. 상속과 메서드 오버라이딩, 다중 상속을 종합적으로 테스트하세요.\n",
    "\n",
    "1. `Mentor` 클래스:\n",
    "    - 속성 `field`를 생성자로 받아 저장합니다.\n",
    "    - 메서드 `guide`는 `\"저는 [field] 분야의 멘토입니다.\"`를 반환합니다.\n",
    "2. `Lecturer` 클래스:\n",
    "    - 속성 `experience`를 생성자로 받아 저장합니다.\n",
    "    - 메서드 `teach`는 `\"저는 [experience]년의 강의 경력을 가지고 있습니다.\"`를 반환합니다.\n",
    "3. `Candidate` 클래스:\n",
    "    - `Mentor`와 `Lecturer` 클래스를 다중 상속받습니다.\n",
    "    - `guide` 메서드를 오버라이드하여 `\"저는 [field] 분야의 강사이며, 이직 준비를 도와드립니다.\"`를 반환합니다."
   ]
  },
  {
   "cell_type": "code",
   "execution_count": 88,
   "metadata": {},
   "outputs": [],
   "source": [
    "class Mentor:\n",
    "    \n",
    "    def __init__(self, field):\n",
    "        self.field = field\n",
    "\n",
    "    def guide(self):\n",
    "        return f\"저는 {self.field} 분야의 멘토입니다.\"\n",
    "    \n",
    "\n",
    "class Lecuturer:\n",
    "\n",
    "    def __init__(self, experience):\n",
    "        self.experience = experience\n",
    "\n",
    "    def teach(self):\n",
    "        return f\"저는 {self.experience}년의 강의 경력을 가지고 있습니다.\"\n",
    "    \n",
    "\n",
    "class Candidate(Mentor, Lecuturer):\n",
    "\n",
    "    def __init__(self, field, experience):      \n",
    "        Mentor.__init__(self, field)                # 'Candidate' object has no attribute 'experience' 를 해결하려면 부모클래스에서 받은 값인 field, experience의 인스턴스 값을 초기화 해주어야 함함\n",
    "        Lecuturer.__init__(self, experience)\n",
    "    \n",
    "    def guide(self):\n",
    "        return f\"저는 {self.field} 분야의 강사이며, 이직 준비를 도와드립니다.\"\n",
    "    \n",
    "\n",
    "\n"
   ]
  },
  {
   "cell_type": "code",
   "execution_count": 89,
   "metadata": {},
   "outputs": [
    {
     "name": "stdout",
     "output_type": "stream",
     "text": [
      "저는 코딩 분야의 멘토입니다.\n",
      "저는 500년의 강의 경력을 가지고 있습니다.\n",
      "저는 ai 분야의 강사이며, 이직 준비를 도와드립니다.\n",
      "저는 30년의 강의 경력을 가지고 있습니다.\n"
     ]
    }
   ],
   "source": [
    "m = Mentor('코딩')        #인스턴스 만들기\n",
    "l = Lecuturer(500)\n",
    "c = Candidate('ai', 30)\n",
    "\n",
    "\n",
    "print(m.guide())\n",
    "# print(m.teach)\n",
    "# print(m.coach)\n",
    "\n",
    "# print(l.guide)\n",
    "print(l.teach())\n",
    "# print(l.coach)\n",
    "\n",
    "print(c.guide())\n",
    "print(c.teach())\n",
    "# print(c.coach)"
   ]
  },
  {
   "cell_type": "code",
   "execution_count": 95,
   "metadata": {},
   "outputs": [
    {
     "data": {
      "text/plain": [
       "30"
      ]
     },
     "execution_count": 95,
     "metadata": {},
     "output_type": "execute_result"
    }
   ],
   "source": [
    "(lambda x, y: x + y)(10, 20)"
   ]
  },
  {
   "cell_type": "code",
   "execution_count": null,
   "metadata": {},
   "outputs": [],
   "source": []
  }
 ],
 "metadata": {
  "kernelspec": {
   "display_name": "pystudy_env",
   "language": "python",
   "name": "pystudy_env"
  },
  "language_info": {
   "codemirror_mode": {
    "name": "ipython",
    "version": 3
   },
   "file_extension": ".py",
   "mimetype": "text/x-python",
   "name": "python",
   "nbconvert_exporter": "python",
   "pygments_lexer": "ipython3",
   "version": "3.12.8"
  }
 },
 "nbformat": 4,
 "nbformat_minor": 2
}
