{
 "cells": [
  {
   "cell_type": "markdown",
   "metadata": {},
   "source": [
    "### 문제 1: **다람쥐의 팀원 소개 모듈**\n",
    "\n",
    "다람쥐는 대기업에 입사한 후, 팀원들의 역할을 소개하는 프로그램을 작성하려고 합니다. `team_module.py`라는 모듈을 생성하고 이를 사용해 아래 요구사항을 구현하세요.\n",
    "\n",
    "1. **`team_module.py` 내용**:\n",
    "    - 함수 `introduce_manager()`: \"저는 팀장입니다. 팀을 이끌고 있습니다.\" 반환\n",
    "    - 함수 `introduce_developer()`: \"저는 개발자입니다. LLM 서비스를 개발하고 있습니다.\" 반환\n",
    "    - 변수 `company`: \"주식회사 SQUIRREL\"\n",
    "2. 메인 스크립트에서 `team_module.py`를 불러와 아래와 같이 출력하세요:"
   ]
  },
  {
   "cell_type": "code",
   "execution_count": 10,
   "metadata": {},
   "outputs": [
    {
     "name": "stdout",
     "output_type": "stream",
     "text": [
      "안녕하세요, 주식회사 SQUIRREL입니다.\n",
      "저는 팀장입니다. 팀을 이끌고 있습니다.\n",
      "저는 개발입니다. LLM 서비스를 개발하고 있습니다.\n"
     ]
    }
   ],
   "source": [
    "import team_module\n",
    "\n",
    "print(f\"안녕하세요, {team_module.company}입니다.\")\n",
    "print(team_module.introduce_manager())\n",
    "print(team_module.introduce_developer())"
   ]
  },
  {
   "cell_type": "markdown",
   "metadata": {},
   "source": [
    "### 문제 2: **다람쥐의 출퇴근 관리 모듈**\n",
    "\n",
    "다람쥐는 팀원들의 출퇴근 시간을 관리하는 프로그램을 작성하고자 합니다. `attendance_module.py`를 생성하고 이를 사용해 아래 요구사항을 구현하세요.\n",
    "\n",
    "1. **`attendance_module.py` 내용**:\n",
    "    - 함수 `record_attendance(name, time)`: \"{name}님이 {time}에 출근했습니다.\" 반환\n",
    "    - 함수 `record_leave(name, time)`: \"{name}님이 {time}에 퇴근했습니다.\" 반환\n",
    "2. 메인 스크립트에서 `attendance_module.py`를 불러와 아래와 같이 출력하세요:"
   ]
  },
  {
   "cell_type": "code",
   "execution_count": 4,
   "metadata": {},
   "outputs": [
    {
     "name": "stdout",
     "output_type": "stream",
     "text": [
      "다람쥐님이 9:00에 출근했습니다.\n",
      "다람쥐님이 18:00에 퇴근했습니다.\n"
     ]
    }
   ],
   "source": [
    "import attendance_module as AM\n",
    "\n",
    "print(AM.record_attendance(\"다람쥐\", \"9:00\"))\n",
    "print(AM.record_leave(\"다람쥐\", \"18:00\"))"
   ]
  },
  {
   "cell_type": "markdown",
   "metadata": {},
   "source": [
    "### 문제 3: **다람쥐의 업무 진행 모듈**\n",
    "\n",
    "다람쥐는 팀에서 업무 진행 상황을 기록하는 프로그램을 작성하려 합니다. `task_module.py`를 생성하고 이를 사용해 아래 요구사항을 구현하세요.\n",
    "\n",
    "1. **`task_module.py` 내용**:\n",
    "    - 함수 `start_task(task_name)`: \"작업 '{task_name}'이(가) 시작되었습니다.\" 반환\n",
    "    - 함수 `complete_task(task_name)`: \"작업 '{task_name}'이(가) 완료되었습니다.\" 반환\n",
    "2. 메인 스크립트에서 `task_module.py`를 불러와 아래와 같이 출력하세요:"
   ]
  },
  {
   "cell_type": "code",
   "execution_count": 26,
   "metadata": {},
   "outputs": [
    {
     "name": "stdout",
     "output_type": "stream",
     "text": [
      "'코드 리뷰'이(가) 시작되었습니다.\n",
      "'코드 리뷰'이(가) 완료되었습니다.\n"
     ]
    }
   ],
   "source": [
    "import task_module\n",
    "\n",
    "\n",
    "\n",
    "# print(task_module.start_task(task_module.task_name))\n",
    "# print(task_module.complete_task(task_module.task_name))   # task_module에 task_name 변수를 준 경우\n",
    "\n",
    "task_name = \"'코드 리뷰'\"\n",
    "\n",
    "print(task_module.start_task(task_name))\n",
    "print(task_module.complete_task(task_name))\n"
   ]
  },
  {
   "cell_type": "markdown",
   "metadata": {},
   "source": [
    "### 문제 4: **내장 모듈을 활용한 다람쥐의 업무 효율성 계산**\n",
    "\n",
    "다람쥐는 자신의 업무 효율성을 계산하려고 합니다. `math` 모듈을 사용하여 아래 요구사항을 구현하세요.\n",
    "\n",
    "1. 매일 처리한 업무량을 기록한 배열이 [10, 12, 8, 15, 9]라면 평균 업무량을 출력하세요.\n",
    "2. 평균 업무량보다 많이 처리한 날의 개수를 계산하세요."
   ]
  },
  {
   "cell_type": "code",
   "execution_count": 4,
   "metadata": {},
   "outputs": [
    {
     "name": "stdout",
     "output_type": "stream",
     "text": [
      "11\n",
      "2\n"
     ]
    }
   ],
   "source": [
    "import math\n",
    "\n",
    "count = 0\n",
    "work_done = [10, 12, 8, 15, 9]\n",
    "\n",
    "work_average = sum(work_done) / len(work_done)\n",
    "work_average = round(work_average)      # math.ceil로 올림 처리\n",
    "\n",
    "for work in work_done:\n",
    "\n",
    "    if  work > work_average:\n",
    "        count += 1\n",
    "\n",
    "\n",
    "print(work_average)\n",
    "print(count)\n"
   ]
  },
  {
   "cell_type": "code",
   "execution_count": 42,
   "metadata": {},
   "outputs": [
    {
     "name": "stdout",
     "output_type": "stream",
     "text": [
      "11\n",
      "2\n"
     ]
    }
   ],
   "source": [
    "import math\n",
    "\n",
    "works = [10, 12, 8, 15, 9]\n",
    "\n",
    "work_average = sum(works) / len(works)\n",
    "work_average = math.ceil(work_average)      # math.ceil로 올림 처리\n",
    "\n",
    "# count = 0\n",
    "# for work in works:\n",
    "#     if  work > work_average:\n",
    "#         count += 1\n",
    "\n",
    "count = sum(1 for work_time in works if work_time > work_average)       # works에 있는 work_time이 work_average보다 크다면 1이 생성되고, 바깥의 sum으로 더해준다.\n",
    "\n",
    "print(work_average)\n",
    "print(count)"
   ]
  },
  {
   "cell_type": "markdown",
   "metadata": {},
   "source": [
    "### 문제 5: **내장 모듈을 활용한 다람쥐의 업무 보고서 작성**\n",
    "\n",
    "다람쥐는 팀원의 업무 보고서를 작성하려고 합니다. `datetime` 모듈을 사용하여 현재 날짜와 시간을 포함한 보고서를 생성하세요.\n",
    "\n",
    "1. 현재 날짜와 시간. 팀원 이름과 작업 내용을 출력하세요."
   ]
  },
  {
   "cell_type": "code",
   "execution_count": 56,
   "metadata": {},
   "outputs": [
    {
     "name": "stdout",
     "output_type": "stream",
     "text": [
      "[2024-12-26 10:41:46] 다람쥐님이 작업 '코드 리뷰'을(를) 완료했습니다.\n"
     ]
    }
   ],
   "source": [
    "import datetime     # form datetime(module) import datetime(class) -> now = datetime.now() 가 됨.\n",
    "\n",
    "now = datetime.datetime.now()       # datetime 이라는 자료형임임\n",
    "now_format = now.strftime('[%Y-%m-%d %H:%M:%S]')\n",
    "\n",
    "name = \"다람쥐\"\n",
    "work = \"'코드 리뷰'\"\n",
    "\n",
    "print(f'{now_format} {name}님이 작업 {work}을(를) 완료했습니다.')\n",
    "\n",
    "# [2024-12-24 08:55:31] 다람쥐님이 작업 '코드 리뷰'을(를) 완료했습니다."
   ]
  },
  {
   "cell_type": "code",
   "execution_count": 58,
   "metadata": {},
   "outputs": [
    {
     "name": "stdout",
     "output_type": "stream",
     "text": [
      "Collecting numpy\n",
      "  Downloading numpy-2.2.1-cp312-cp312-win_amd64.whl.metadata (60 kB)\n",
      "Downloading numpy-2.2.1-cp312-cp312-win_amd64.whl (12.6 MB)\n",
      "   ---------------------------------------- 0.0/12.6 MB ? eta -:--:--\n",
      "   ---------------------------------------  12.6/12.6 MB 71.6 MB/s eta 0:00:01\n",
      "   ---------------------------------------- 12.6/12.6 MB 60.8 MB/s eta 0:00:00\n",
      "Installing collected packages: numpy\n",
      "Successfully installed numpy-2.2.1\n",
      "Collecting pandas\n",
      "  Downloading pandas-2.2.3-cp312-cp312-win_amd64.whl.metadata (19 kB)\n",
      "Requirement already satisfied: numpy>=1.26.0 in c:\\users\\playdata\\appdata\\local\\anaconda3\\envs\\pystudy_env\\lib\\site-packages (from pandas) (2.2.1)\n",
      "Requirement already satisfied: python-dateutil>=2.8.2 in c:\\users\\playdata\\appdata\\local\\anaconda3\\envs\\pystudy_env\\lib\\site-packages (from pandas) (2.9.0.post0)\n",
      "Collecting pytz>=2020.1 (from pandas)\n",
      "  Downloading pytz-2024.2-py2.py3-none-any.whl.metadata (22 kB)\n",
      "Collecting tzdata>=2022.7 (from pandas)\n",
      "  Downloading tzdata-2024.2-py2.py3-none-any.whl.metadata (1.4 kB)\n",
      "Requirement already satisfied: six>=1.5 in c:\\users\\playdata\\appdata\\local\\anaconda3\\envs\\pystudy_env\\lib\\site-packages (from python-dateutil>=2.8.2->pandas) (1.17.0)\n",
      "Downloading pandas-2.2.3-cp312-cp312-win_amd64.whl (11.5 MB)\n",
      "   ---------------------------------------- 0.0/11.5 MB ? eta -:--:--\n",
      "   ---------- ----------------------------- 3.1/11.5 MB 62.7 MB/s eta 0:00:01\n",
      "   ---------- ----------------------------- 3.1/11.5 MB 62.7 MB/s eta 0:00:01\n",
      "   ---------------------------------------- 11.5/11.5 MB 19.0 MB/s eta 0:00:00\n",
      "Downloading pytz-2024.2-py2.py3-none-any.whl (508 kB)\n",
      "Downloading tzdata-2024.2-py2.py3-none-any.whl (346 kB)\n",
      "Installing collected packages: pytz, tzdata, pandas\n",
      "Successfully installed pandas-2.2.3 pytz-2024.2 tzdata-2024.2\n"
     ]
    }
   ],
   "source": [
    "!pip install numpy\n",
    "!pip install pandas"
   ]
  },
  {
   "cell_type": "code",
   "execution_count": 3,
   "metadata": {},
   "outputs": [],
   "source": [
    "import numpy\n",
    "import pandas\n"
   ]
  },
  {
   "cell_type": "code",
   "execution_count": 62,
   "metadata": {},
   "outputs": [],
   "source": [
    "!pip freeze > requirements.txt"
   ]
  },
  {
   "cell_type": "code",
   "execution_count": 2,
   "metadata": {},
   "outputs": [
    {
     "name": "stdout",
     "output_type": "stream",
     "text": [
      "Collecting anyio==4.7.0 (from -r requirements.txt (line 1))\n",
      "  Using cached anyio-4.7.0-py3-none-any.whl.metadata (4.7 kB)\n",
      "Collecting argon2-cffi==23.1.0 (from -r requirements.txt (line 2))\n",
      "  Using cached argon2_cffi-23.1.0-py3-none-any.whl.metadata (5.2 kB)\n",
      "Collecting argon2-cffi-bindings==21.2.0 (from -r requirements.txt (line 3))\n",
      "  Using cached argon2_cffi_bindings-21.2.0-cp36-abi3-win_amd64.whl.metadata (6.7 kB)\n",
      "Collecting arrow==1.3.0 (from -r requirements.txt (line 4))\n",
      "  Using cached arrow-1.3.0-py3-none-any.whl.metadata (7.5 kB)\n",
      "Requirement already satisfied: asttokens==3.0.0 in c:\\users\\playdata\\appdata\\local\\anaconda3\\envs\\pystudy_test\\lib\\site-packages (from -r requirements.txt (line 5)) (3.0.0)\n",
      "Requirement already satisfied: async-lru==2.0.4 in c:\\users\\playdata\\appdata\\local\\anaconda3\\envs\\pystudy_test\\lib\\site-packages (from -r requirements.txt (line 6)) (2.0.4)\n",
      "Requirement already satisfied: attrs==24.3.0 in c:\\users\\playdata\\appdata\\local\\anaconda3\\envs\\pystudy_test\\lib\\site-packages (from -r requirements.txt (line 7)) (24.3.0)\n",
      "Requirement already satisfied: babel==2.16.0 in c:\\users\\playdata\\appdata\\local\\anaconda3\\envs\\pystudy_test\\lib\\site-packages (from -r requirements.txt (line 8)) (2.16.0)\n",
      "Collecting beautifulsoup4==4.12.3 (from -r requirements.txt (line 9))\n",
      "  Using cached beautifulsoup4-4.12.3-py3-none-any.whl.metadata (3.8 kB)\n",
      "Requirement already satisfied: bleach==6.2.0 in c:\\users\\playdata\\appdata\\local\\anaconda3\\envs\\pystudy_test\\lib\\site-packages (from -r requirements.txt (line 10)) (6.2.0)\n",
      "Requirement already satisfied: certifi==2024.12.14 in c:\\users\\playdata\\appdata\\local\\anaconda3\\envs\\pystudy_test\\lib\\site-packages (from -r requirements.txt (line 11)) (2024.12.14)\n",
      "Collecting cffi==1.17.1 (from -r requirements.txt (line 12))\n",
      "  Using cached cffi-1.17.1-cp312-cp312-win_amd64.whl.metadata (1.6 kB)\n",
      "Requirement already satisfied: charset-normalizer==3.4.0 in c:\\users\\playdata\\appdata\\local\\anaconda3\\envs\\pystudy_test\\lib\\site-packages (from -r requirements.txt (line 13)) (3.4.0)\n",
      "Requirement already satisfied: colorama==0.4.6 in c:\\users\\playdata\\appdata\\local\\anaconda3\\envs\\pystudy_test\\lib\\site-packages (from -r requirements.txt (line 14)) (0.4.6)\n",
      "Requirement already satisfied: comm==0.2.2 in c:\\users\\playdata\\appdata\\local\\anaconda3\\envs\\pystudy_test\\lib\\site-packages (from -r requirements.txt (line 15)) (0.2.2)\n",
      "Requirement already satisfied: debugpy==1.8.11 in c:\\users\\playdata\\appdata\\local\\anaconda3\\envs\\pystudy_test\\lib\\site-packages (from -r requirements.txt (line 16)) (1.8.11)\n",
      "Requirement already satisfied: decorator==5.1.1 in c:\\users\\playdata\\appdata\\local\\anaconda3\\envs\\pystudy_test\\lib\\site-packages (from -r requirements.txt (line 17)) (5.1.1)\n",
      "Requirement already satisfied: defusedxml==0.7.1 in c:\\users\\playdata\\appdata\\local\\anaconda3\\envs\\pystudy_test\\lib\\site-packages (from -r requirements.txt (line 18)) (0.7.1)\n",
      "Requirement already satisfied: executing==2.1.0 in c:\\users\\playdata\\appdata\\local\\anaconda3\\envs\\pystudy_test\\lib\\site-packages (from -r requirements.txt (line 19)) (2.1.0)\n",
      "Requirement already satisfied: fastjsonschema==2.21.1 in c:\\users\\playdata\\appdata\\local\\anaconda3\\envs\\pystudy_test\\lib\\site-packages (from -r requirements.txt (line 20)) (2.21.1)\n",
      "Requirement already satisfied: fqdn==1.5.1 in c:\\users\\playdata\\appdata\\local\\anaconda3\\envs\\pystudy_test\\lib\\site-packages (from -r requirements.txt (line 21)) (1.5.1)\n",
      "Requirement already satisfied: h11==0.14.0 in c:\\users\\playdata\\appdata\\local\\anaconda3\\envs\\pystudy_test\\lib\\site-packages (from -r requirements.txt (line 22)) (0.14.0)\n",
      "Requirement already satisfied: httpcore==1.0.7 in c:\\users\\playdata\\appdata\\local\\anaconda3\\envs\\pystudy_test\\lib\\site-packages (from -r requirements.txt (line 23)) (1.0.7)\n",
      "Collecting httpx==0.28.1 (from -r requirements.txt (line 24))\n",
      "  Using cached httpx-0.28.1-py3-none-any.whl.metadata (7.1 kB)\n",
      "Requirement already satisfied: idna==3.10 in c:\\users\\playdata\\appdata\\local\\anaconda3\\envs\\pystudy_test\\lib\\site-packages (from -r requirements.txt (line 25)) (3.10)\n",
      "Requirement already satisfied: ipykernel==6.29.5 in c:\\users\\playdata\\appdata\\local\\anaconda3\\envs\\pystudy_test\\lib\\site-packages (from -r requirements.txt (line 26)) (6.29.5)\n",
      "Requirement already satisfied: ipython==8.30.0 in c:\\users\\playdata\\appdata\\local\\anaconda3\\envs\\pystudy_test\\lib\\site-packages (from -r requirements.txt (line 27)) (8.30.0)\n",
      "Collecting ipywidgets==8.1.5 (from -r requirements.txt (line 28))\n",
      "  Using cached ipywidgets-8.1.5-py3-none-any.whl.metadata (2.3 kB)\n",
      "Collecting isoduration==20.11.0 (from -r requirements.txt (line 29))\n",
      "  Using cached isoduration-20.11.0-py3-none-any.whl.metadata (5.7 kB)\n",
      "Requirement already satisfied: jedi==0.19.2 in c:\\users\\playdata\\appdata\\local\\anaconda3\\envs\\pystudy_test\\lib\\site-packages (from -r requirements.txt (line 30)) (0.19.2)\n",
      "Requirement already satisfied: Jinja2==3.1.4 in c:\\users\\playdata\\appdata\\local\\anaconda3\\envs\\pystudy_test\\lib\\site-packages (from -r requirements.txt (line 31)) (3.1.4)\n",
      "Requirement already satisfied: json5==0.10.0 in c:\\users\\playdata\\appdata\\local\\anaconda3\\envs\\pystudy_test\\lib\\site-packages (from -r requirements.txt (line 32)) (0.10.0)\n",
      "Requirement already satisfied: jsonpointer==3.0.0 in c:\\users\\playdata\\appdata\\local\\anaconda3\\envs\\pystudy_test\\lib\\site-packages (from -r requirements.txt (line 33)) (3.0.0)\n",
      "Collecting jsonschema==4.23.0 (from -r requirements.txt (line 34))\n",
      "  Using cached jsonschema-4.23.0-py3-none-any.whl.metadata (7.9 kB)\n",
      "Collecting jsonschema-specifications==2024.10.1 (from -r requirements.txt (line 35))\n",
      "  Using cached jsonschema_specifications-2024.10.1-py3-none-any.whl.metadata (3.0 kB)\n",
      "Collecting jupyter==1.1.1 (from -r requirements.txt (line 36))\n",
      "  Using cached jupyter-1.1.1-py2.py3-none-any.whl.metadata (2.0 kB)\n",
      "Collecting jupyter-console==6.6.3 (from -r requirements.txt (line 37))\n",
      "  Using cached jupyter_console-6.6.3-py3-none-any.whl.metadata (5.8 kB)\n",
      "Collecting jupyter-events==0.11.0 (from -r requirements.txt (line 38))\n",
      "  Using cached jupyter_events-0.11.0-py3-none-any.whl.metadata (5.8 kB)\n",
      "Collecting jupyter-lsp==2.2.5 (from -r requirements.txt (line 39))\n",
      "  Using cached jupyter_lsp-2.2.5-py3-none-any.whl.metadata (1.8 kB)\n",
      "Requirement already satisfied: jupyter_client==8.6.3 in c:\\users\\playdata\\appdata\\local\\anaconda3\\envs\\pystudy_test\\lib\\site-packages (from -r requirements.txt (line 40)) (8.6.3)\n",
      "Requirement already satisfied: jupyter_core==5.7.2 in c:\\users\\playdata\\appdata\\local\\anaconda3\\envs\\pystudy_test\\lib\\site-packages (from -r requirements.txt (line 41)) (5.7.2)\n",
      "Collecting jupyter_server==2.14.2 (from -r requirements.txt (line 42))\n",
      "  Using cached jupyter_server-2.14.2-py3-none-any.whl.metadata (8.4 kB)\n",
      "Collecting jupyter_server_terminals==0.5.3 (from -r requirements.txt (line 43))\n",
      "  Using cached jupyter_server_terminals-0.5.3-py3-none-any.whl.metadata (5.6 kB)\n",
      "Collecting jupyterlab==4.3.3 (from -r requirements.txt (line 44))\n",
      "  Using cached jupyterlab-4.3.3-py3-none-any.whl.metadata (16 kB)\n",
      "Requirement already satisfied: jupyterlab_pygments==0.3.0 in c:\\users\\playdata\\appdata\\local\\anaconda3\\envs\\pystudy_test\\lib\\site-packages (from -r requirements.txt (line 45)) (0.3.0)\n",
      "Collecting jupyterlab_server==2.27.3 (from -r requirements.txt (line 46))\n",
      "  Using cached jupyterlab_server-2.27.3-py3-none-any.whl.metadata (5.9 kB)\n",
      "Requirement already satisfied: jupyterlab_widgets==3.0.13 in c:\\users\\playdata\\appdata\\local\\anaconda3\\envs\\pystudy_test\\lib\\site-packages (from -r requirements.txt (line 47)) (3.0.13)\n",
      "Requirement already satisfied: MarkupSafe==3.0.2 in c:\\users\\playdata\\appdata\\local\\anaconda3\\envs\\pystudy_test\\lib\\site-packages (from -r requirements.txt (line 48)) (3.0.2)\n",
      "Requirement already satisfied: matplotlib-inline==0.1.7 in c:\\users\\playdata\\appdata\\local\\anaconda3\\envs\\pystudy_test\\lib\\site-packages (from -r requirements.txt (line 49)) (0.1.7)\n",
      "Requirement already satisfied: mistune==3.0.2 in c:\\users\\playdata\\appdata\\local\\anaconda3\\envs\\pystudy_test\\lib\\site-packages (from -r requirements.txt (line 50)) (3.0.2)\n",
      "Collecting nbclient==0.10.1 (from -r requirements.txt (line 51))\n",
      "  Using cached nbclient-0.10.1-py3-none-any.whl.metadata (8.2 kB)\n",
      "Collecting nbconvert==7.16.4 (from -r requirements.txt (line 52))\n",
      "  Using cached nbconvert-7.16.4-py3-none-any.whl.metadata (8.5 kB)\n",
      "Collecting nbformat==5.10.4 (from -r requirements.txt (line 53))\n",
      "  Using cached nbformat-5.10.4-py3-none-any.whl.metadata (3.6 kB)\n",
      "Requirement already satisfied: nest-asyncio==1.6.0 in c:\\users\\playdata\\appdata\\local\\anaconda3\\envs\\pystudy_test\\lib\\site-packages (from -r requirements.txt (line 54)) (1.6.0)\n",
      "Collecting notebook==7.3.1 (from -r requirements.txt (line 55))\n",
      "  Using cached notebook-7.3.1-py3-none-any.whl.metadata (10 kB)\n",
      "Collecting notebook_shim==0.2.4 (from -r requirements.txt (line 56))\n",
      "  Using cached notebook_shim-0.2.4-py3-none-any.whl.metadata (4.0 kB)\n",
      "Requirement already satisfied: numpy==2.2.1 in c:\\users\\playdata\\appdata\\local\\anaconda3\\envs\\pystudy_test\\lib\\site-packages (from -r requirements.txt (line 57)) (2.2.1)\n",
      "Requirement already satisfied: overrides==7.7.0 in c:\\users\\playdata\\appdata\\local\\anaconda3\\envs\\pystudy_test\\lib\\site-packages (from -r requirements.txt (line 58)) (7.7.0)\n",
      "Requirement already satisfied: packaging==24.2 in c:\\users\\playdata\\appdata\\local\\anaconda3\\envs\\pystudy_test\\lib\\site-packages (from -r requirements.txt (line 59)) (24.2)\n",
      "Requirement already satisfied: pandas==2.2.3 in c:\\users\\playdata\\appdata\\local\\anaconda3\\envs\\pystudy_test\\lib\\site-packages (from -r requirements.txt (line 60)) (2.2.3)\n",
      "Requirement already satisfied: pandocfilters==1.5.1 in c:\\users\\playdata\\appdata\\local\\anaconda3\\envs\\pystudy_test\\lib\\site-packages (from -r requirements.txt (line 61)) (1.5.1)\n",
      "Requirement already satisfied: parso==0.8.4 in c:\\users\\playdata\\appdata\\local\\anaconda3\\envs\\pystudy_test\\lib\\site-packages (from -r requirements.txt (line 62)) (0.8.4)\n",
      "Requirement already satisfied: platformdirs==4.3.6 in c:\\users\\playdata\\appdata\\local\\anaconda3\\envs\\pystudy_test\\lib\\site-packages (from -r requirements.txt (line 63)) (4.3.6)\n",
      "Requirement already satisfied: prometheus_client==0.21.1 in c:\\users\\playdata\\appdata\\local\\anaconda3\\envs\\pystudy_test\\lib\\site-packages (from -r requirements.txt (line 64)) (0.21.1)\n",
      "Requirement already satisfied: prompt_toolkit==3.0.48 in c:\\users\\playdata\\appdata\\local\\anaconda3\\envs\\pystudy_test\\lib\\site-packages (from -r requirements.txt (line 65)) (3.0.48)\n",
      "Requirement already satisfied: psutil==6.1.0 in c:\\users\\playdata\\appdata\\local\\anaconda3\\envs\\pystudy_test\\lib\\site-packages (from -r requirements.txt (line 66)) (6.1.0)\n",
      "Requirement already satisfied: pure_eval==0.2.3 in c:\\users\\playdata\\appdata\\local\\anaconda3\\envs\\pystudy_test\\lib\\site-packages (from -r requirements.txt (line 67)) (0.2.3)\n",
      "Requirement already satisfied: pycparser==2.22 in c:\\users\\playdata\\appdata\\local\\anaconda3\\envs\\pystudy_test\\lib\\site-packages (from -r requirements.txt (line 68)) (2.22)\n",
      "Requirement already satisfied: Pygments==2.18.0 in c:\\users\\playdata\\appdata\\local\\anaconda3\\envs\\pystudy_test\\lib\\site-packages (from -r requirements.txt (line 69)) (2.18.0)\n",
      "Requirement already satisfied: python-dateutil==2.9.0.post0 in c:\\users\\playdata\\appdata\\local\\anaconda3\\envs\\pystudy_test\\lib\\site-packages (from -r requirements.txt (line 70)) (2.9.0.post0)\n",
      "Requirement already satisfied: python-json-logger==3.2.1 in c:\\users\\playdata\\appdata\\local\\anaconda3\\envs\\pystudy_test\\lib\\site-packages (from -r requirements.txt (line 71)) (3.2.1)\n",
      "Requirement already satisfied: pytz==2024.2 in c:\\users\\playdata\\appdata\\local\\anaconda3\\envs\\pystudy_test\\lib\\site-packages (from -r requirements.txt (line 72)) (2024.2)\n",
      "Requirement already satisfied: pywin32==308 in c:\\users\\playdata\\appdata\\local\\anaconda3\\envs\\pystudy_test\\lib\\site-packages (from -r requirements.txt (line 73)) (308)\n",
      "Requirement already satisfied: pywinpty==2.0.14 in c:\\users\\playdata\\appdata\\local\\anaconda3\\envs\\pystudy_test\\lib\\site-packages (from -r requirements.txt (line 74)) (2.0.14)\n",
      "Requirement already satisfied: PyYAML==6.0.2 in c:\\users\\playdata\\appdata\\local\\anaconda3\\envs\\pystudy_test\\lib\\site-packages (from -r requirements.txt (line 75)) (6.0.2)\n",
      "Requirement already satisfied: pyzmq==26.2.0 in c:\\users\\playdata\\appdata\\local\\anaconda3\\envs\\pystudy_test\\lib\\site-packages (from -r requirements.txt (line 76)) (26.2.0)\n",
      "Requirement already satisfied: referencing==0.35.1 in c:\\users\\playdata\\appdata\\local\\anaconda3\\envs\\pystudy_test\\lib\\site-packages (from -r requirements.txt (line 77)) (0.35.1)\n",
      "Requirement already satisfied: requests==2.32.3 in c:\\users\\playdata\\appdata\\local\\anaconda3\\envs\\pystudy_test\\lib\\site-packages (from -r requirements.txt (line 78)) (2.32.3)\n",
      "Requirement already satisfied: rfc3339-validator==0.1.4 in c:\\users\\playdata\\appdata\\local\\anaconda3\\envs\\pystudy_test\\lib\\site-packages (from -r requirements.txt (line 79)) (0.1.4)\n",
      "Requirement already satisfied: rfc3986-validator==0.1.1 in c:\\users\\playdata\\appdata\\local\\anaconda3\\envs\\pystudy_test\\lib\\site-packages (from -r requirements.txt (line 80)) (0.1.1)\n",
      "Requirement already satisfied: rpds-py==0.22.3 in c:\\users\\playdata\\appdata\\local\\anaconda3\\envs\\pystudy_test\\lib\\site-packages (from -r requirements.txt (line 81)) (0.22.3)\n",
      "Requirement already satisfied: Send2Trash==1.8.3 in c:\\users\\playdata\\appdata\\local\\anaconda3\\envs\\pystudy_test\\lib\\site-packages (from -r requirements.txt (line 82)) (1.8.3)\n",
      "Requirement already satisfied: setuptools==75.1.0 in c:\\users\\playdata\\appdata\\local\\anaconda3\\envs\\pystudy_test\\lib\\site-packages (from -r requirements.txt (line 83)) (75.1.0)\n",
      "Requirement already satisfied: six==1.17.0 in c:\\users\\playdata\\appdata\\local\\anaconda3\\envs\\pystudy_test\\lib\\site-packages (from -r requirements.txt (line 84)) (1.17.0)\n",
      "Requirement already satisfied: sniffio==1.3.1 in c:\\users\\playdata\\appdata\\local\\anaconda3\\envs\\pystudy_test\\lib\\site-packages (from -r requirements.txt (line 85)) (1.3.1)\n",
      "Requirement already satisfied: soupsieve==2.6 in c:\\users\\playdata\\appdata\\local\\anaconda3\\envs\\pystudy_test\\lib\\site-packages (from -r requirements.txt (line 86)) (2.6)\n",
      "Requirement already satisfied: stack-data==0.6.3 in c:\\users\\playdata\\appdata\\local\\anaconda3\\envs\\pystudy_test\\lib\\site-packages (from -r requirements.txt (line 87)) (0.6.3)\n",
      "Requirement already satisfied: terminado==0.18.1 in c:\\users\\playdata\\appdata\\local\\anaconda3\\envs\\pystudy_test\\lib\\site-packages (from -r requirements.txt (line 88)) (0.18.1)\n",
      "Requirement already satisfied: tinycss2==1.4.0 in c:\\users\\playdata\\appdata\\local\\anaconda3\\envs\\pystudy_test\\lib\\site-packages (from -r requirements.txt (line 89)) (1.4.0)\n",
      "Requirement already satisfied: tornado==6.4.2 in c:\\users\\playdata\\appdata\\local\\anaconda3\\envs\\pystudy_test\\lib\\site-packages (from -r requirements.txt (line 90)) (6.4.2)\n",
      "Requirement already satisfied: traitlets==5.14.3 in c:\\users\\playdata\\appdata\\local\\anaconda3\\envs\\pystudy_test\\lib\\site-packages (from -r requirements.txt (line 91)) (5.14.3)\n",
      "Requirement already satisfied: types-python-dateutil==2.9.0.20241206 in c:\\users\\playdata\\appdata\\local\\anaconda3\\envs\\pystudy_test\\lib\\site-packages (from -r requirements.txt (line 92)) (2.9.0.20241206)\n",
      "Requirement already satisfied: typing_extensions==4.12.2 in c:\\users\\playdata\\appdata\\local\\anaconda3\\envs\\pystudy_test\\lib\\site-packages (from -r requirements.txt (line 93)) (4.12.2)\n",
      "Requirement already satisfied: tzdata==2024.2 in c:\\users\\playdata\\appdata\\local\\anaconda3\\envs\\pystudy_test\\lib\\site-packages (from -r requirements.txt (line 94)) (2024.2)\n",
      "Requirement already satisfied: uri-template==1.3.0 in c:\\users\\playdata\\appdata\\local\\anaconda3\\envs\\pystudy_test\\lib\\site-packages (from -r requirements.txt (line 95)) (1.3.0)\n",
      "Requirement already satisfied: urllib3==2.2.3 in c:\\users\\playdata\\appdata\\local\\anaconda3\\envs\\pystudy_test\\lib\\site-packages (from -r requirements.txt (line 96)) (2.2.3)\n",
      "Requirement already satisfied: wcwidth==0.2.13 in c:\\users\\playdata\\appdata\\local\\anaconda3\\envs\\pystudy_test\\lib\\site-packages (from -r requirements.txt (line 97)) (0.2.13)\n",
      "Requirement already satisfied: webcolors==24.11.1 in c:\\users\\playdata\\appdata\\local\\anaconda3\\envs\\pystudy_test\\lib\\site-packages (from -r requirements.txt (line 98)) (24.11.1)\n",
      "Requirement already satisfied: webencodings==0.5.1 in c:\\users\\playdata\\appdata\\local\\anaconda3\\envs\\pystudy_test\\lib\\site-packages (from -r requirements.txt (line 99)) (0.5.1)\n",
      "Requirement already satisfied: websocket-client==1.8.0 in c:\\users\\playdata\\appdata\\local\\anaconda3\\envs\\pystudy_test\\lib\\site-packages (from -r requirements.txt (line 100)) (1.8.0)\n",
      "Requirement already satisfied: wheel==0.44.0 in c:\\users\\playdata\\appdata\\local\\anaconda3\\envs\\pystudy_test\\lib\\site-packages (from -r requirements.txt (line 101)) (0.44.0)\n",
      "Requirement already satisfied: widgetsnbextension==4.0.13 in c:\\users\\playdata\\appdata\\local\\anaconda3\\envs\\pystudy_test\\lib\\site-packages (from -r requirements.txt (line 102)) (4.0.13)\n",
      "Using cached anyio-4.7.0-py3-none-any.whl (93 kB)\n",
      "Using cached argon2_cffi-23.1.0-py3-none-any.whl (15 kB)\n",
      "Using cached argon2_cffi_bindings-21.2.0-cp36-abi3-win_amd64.whl (30 kB)\n",
      "Using cached arrow-1.3.0-py3-none-any.whl (66 kB)\n",
      "Using cached beautifulsoup4-4.12.3-py3-none-any.whl (147 kB)\n",
      "Using cached cffi-1.17.1-cp312-cp312-win_amd64.whl (181 kB)\n",
      "Using cached httpx-0.28.1-py3-none-any.whl (73 kB)\n",
      "Using cached ipywidgets-8.1.5-py3-none-any.whl (139 kB)\n",
      "Using cached isoduration-20.11.0-py3-none-any.whl (11 kB)\n",
      "Using cached jsonschema-4.23.0-py3-none-any.whl (88 kB)\n",
      "Using cached jsonschema_specifications-2024.10.1-py3-none-any.whl (18 kB)\n",
      "Using cached jupyter-1.1.1-py2.py3-none-any.whl (2.7 kB)\n",
      "Using cached jupyter_console-6.6.3-py3-none-any.whl (24 kB)\n",
      "Using cached jupyter_events-0.11.0-py3-none-any.whl (19 kB)\n",
      "Using cached jupyter_lsp-2.2.5-py3-none-any.whl (69 kB)\n",
      "Using cached jupyter_server-2.14.2-py3-none-any.whl (383 kB)\n",
      "Using cached jupyter_server_terminals-0.5.3-py3-none-any.whl (13 kB)\n",
      "Using cached jupyterlab-4.3.3-py3-none-any.whl (11.7 MB)\n",
      "Using cached jupyterlab_server-2.27.3-py3-none-any.whl (59 kB)\n",
      "Using cached nbclient-0.10.1-py3-none-any.whl (25 kB)\n",
      "Using cached nbconvert-7.16.4-py3-none-any.whl (257 kB)\n",
      "Using cached nbformat-5.10.4-py3-none-any.whl (78 kB)\n",
      "Using cached notebook-7.3.1-py3-none-any.whl (13.2 MB)\n",
      "Using cached notebook_shim-0.2.4-py3-none-any.whl (13 kB)\n",
      "Installing collected packages: cffi, beautifulsoup4, anyio, jupyter_server_terminals, jsonschema-specifications, httpx, arrow, argon2-cffi-bindings, jsonschema, isoduration, ipywidgets, argon2-cffi, nbformat, jupyter-console, nbclient, jupyter-events, nbconvert, jupyter_server, notebook_shim, jupyterlab_server, jupyter-lsp, jupyterlab, notebook, jupyter\n"
     ]
    },
    {
     "name": "stderr",
     "output_type": "stream",
     "text": [
      "ERROR: Could not install packages due to an OSError: [WinError 32] 다른 프로세스가 파일을 사용 중이기 때문에 프로세스가 액세스 할 수 없습니다: 'C:\\\\Users\\\\Playdata\\\\AppData\\\\Local\\\\anaconda3\\\\envs\\\\pystudy_test\\\\Lib\\\\site-packages\\\\jupyter_server\\\\services\\\\kernelspecs\\\\handlers.py'\n",
      "Consider using the `--user` option or check the permissions.\n",
      "\n"
     ]
    }
   ],
   "source": [
    "!pip install -r requirements.txt"
   ]
  },
  {
   "cell_type": "markdown",
   "metadata": {},
   "source": [
    "### 문제 4: **pip로 패키지 설치 연습**\n",
    "\n",
    "다람쥐는 `numpy` 라이브러리를 설치하여 업무 데이터를 처리하려고 합니다.\n",
    "\n",
    "1. 터미널에서 `numpy`를 설치하세요.\n",
    "    \n",
    "    ```bash\n",
    "    pip install numpy\n",
    "    ```\n",
    "    \n",
    "2. `numpy`의 mean() 함수를 사용해 배열의 평균을 계산하세요."
   ]
  },
  {
   "cell_type": "code",
   "execution_count": 1,
   "metadata": {},
   "outputs": [
    {
     "name": "stdout",
     "output_type": "stream",
     "text": [
      "3.0\n"
     ]
    }
   ],
   "source": [
    "import numpy\n",
    "\n",
    "data = [1, 2, 3, 4, 5]\n",
    "\n",
    "data_ave = numpy.mean(data)\n",
    "\n",
    "print(data_ave)"
   ]
  },
  {
   "cell_type": "markdown",
   "metadata": {},
   "source": [
    "### 문제 5: **requirements.txt 연습**\n",
    "\n",
    "다람쥐는 프로젝트의 종속성을 관리하기 위해 `requirements.txt`를 생성하려고 합니다.\n",
    "\n",
    "1. 현재 설치된 패키지 목록을 `requirements.txt` 파일에 저장하세요:"
   ]
  },
  {
   "cell_type": "code",
   "execution_count": 10,
   "metadata": {},
   "outputs": [],
   "source": [
    "!pip freeze > requirements.txt"
   ]
  },
  {
   "cell_type": "markdown",
   "metadata": {},
   "source": [
    "2. 새로운 가상 환경을 만들어 requirements.txt를 이용해 동일한 환경을 설정하세요:\n"
   ]
  },
  {
   "cell_type": "markdown",
   "metadata": {},
   "source": [
    "3. 새롭게 생성한 가상 환경에서 직전 문제의 평균 계산 코드를 수행하세요."
   ]
  }
 ],
 "metadata": {
  "kernelspec": {
   "display_name": "pystudy_test",
   "language": "python",
   "name": "python3"
  },
  "language_info": {
   "codemirror_mode": {
    "name": "ipython",
    "version": 3
   },
   "file_extension": ".py",
   "mimetype": "text/x-python",
   "name": "python",
   "nbconvert_exporter": "python",
   "pygments_lexer": "ipython3",
   "version": "3.12.8"
  }
 },
 "nbformat": 4,
 "nbformat_minor": 2
}
