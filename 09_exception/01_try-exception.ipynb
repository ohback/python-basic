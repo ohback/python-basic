{
 "cells": [
  {
   "cell_type": "markdown",
   "metadata": {},
   "source": [
    "### 예외처리\n"
   ]
  },
  {
   "cell_type": "code",
   "execution_count": 2,
   "metadata": {},
   "outputs": [],
   "source": [
    "class NotMyTeacher(Exception):\n",
    "    pass\n",
    "\n"
   ]
  },
  {
   "cell_type": "code",
   "execution_count": 5,
   "metadata": {},
   "outputs": [
    {
     "ename": "NotMyTeacher",
     "evalue": "선생님 이름도 모르다니...!",
     "output_type": "error",
     "traceback": [
      "\u001b[1;31m---------------------------------------------------------------------------\u001b[0m",
      "\u001b[1;31mNotMyTeacher\u001b[0m                              Traceback (most recent call last)",
      "Cell \u001b[1;32mIn[5], line 6\u001b[0m\n\u001b[0;32m      4\u001b[0m     \u001b[38;5;28mprint\u001b[39m(\u001b[38;5;124m'\u001b[39m\u001b[38;5;124m훌륭합니다!\u001b[39m\u001b[38;5;124m'\u001b[39m)\n\u001b[0;32m      5\u001b[0m \u001b[38;5;28;01melse\u001b[39;00m:\n\u001b[1;32m----> 6\u001b[0m     \u001b[38;5;28;01mraise\u001b[39;00m NotMyTeacher(\u001b[38;5;124m\"\u001b[39m\u001b[38;5;124m선생님 이름도 모르다니...!\u001b[39m\u001b[38;5;124m\"\u001b[39m)\n",
      "\u001b[1;31mNotMyTeacher\u001b[0m: 선생님 이름도 모르다니...!"
     ]
    }
   ],
   "source": [
    "teacher_name = input('당신의 선생님 이름은 무엇입니까? ')\n",
    "\n",
    "if teacher_name == '다람쥐':\n",
    "    print('훌륭합니다!')\n",
    "else:\n",
    "    raise NotMyTeacher(\"선생님 이름도 모르다니...!\")\n"
   ]
  },
  {
   "cell_type": "code",
   "execution_count": 12,
   "metadata": {},
   "outputs": [
    {
     "name": "stdout",
     "output_type": "stream",
     "text": [
      "예외가 발생했습니다!!!!!\n",
      "그러나 중단되지는 않았어요~~~!\n"
     ]
    }
   ],
   "source": [
    "def check_teacher(teacher_name):\n",
    "    if teacher_name == '다람쥐':\n",
    "        print('훌륭합니다!')\n",
    "    else:\n",
    "        raise NotMyTeacher(\"선생님 이름도 모르다니...!\")\n",
    "    \n",
    "try:\n",
    "    check_teacher(\"호랑이\")\n",
    "    check_teacher(\"다람쥐\")\n",
    "except:\n",
    "    print(\"예외가 발생했습니다!!!!!\")\n",
    "\n",
    "print('그러나 중단되지는 않았어요~~~!')"
   ]
  },
  {
   "cell_type": "code",
   "execution_count": 14,
   "metadata": {},
   "outputs": [
    {
     "ename": "IndexError",
     "evalue": "list index out of range",
     "output_type": "error",
     "traceback": [
      "\u001b[1;31m---------------------------------------------------------------------------\u001b[0m",
      "\u001b[1;31mIndexError\u001b[0m                                Traceback (most recent call last)",
      "Cell \u001b[1;32mIn[14], line 2\u001b[0m\n\u001b[0;32m      1\u001b[0m test_list \u001b[38;5;241m=\u001b[39m [\u001b[38;5;241m2024\u001b[39m, \u001b[38;5;241m12\u001b[39m, \u001b[38;5;241m26\u001b[39m]\n\u001b[1;32m----> 2\u001b[0m \u001b[38;5;28mprint\u001b[39m(\u001b[43mtest_list\u001b[49m\u001b[43m[\u001b[49m\u001b[38;5;241;43m100\u001b[39;49m\u001b[43m]\u001b[49m)\n",
      "\u001b[1;31mIndexError\u001b[0m: list index out of range"
     ]
    }
   ],
   "source": [
    "test_list = [2024, 12, 26]\n",
    "print(test_list[100])"
   ]
  },
  {
   "cell_type": "code",
   "execution_count": 16,
   "metadata": {},
   "outputs": [
    {
     "ename": "ZeroDivisionError",
     "evalue": "division by zero",
     "output_type": "error",
     "traceback": [
      "\u001b[1;31m---------------------------------------------------------------------------\u001b[0m",
      "\u001b[1;31mZeroDivisionError\u001b[0m                         Traceback (most recent call last)",
      "Cell \u001b[1;32mIn[16], line 1\u001b[0m\n\u001b[1;32m----> 1\u001b[0m \u001b[38;5;28mprint\u001b[39m(\u001b[38;5;241;43m2024\u001b[39;49m\u001b[43m \u001b[49m\u001b[38;5;241;43m/\u001b[39;49m\u001b[43m \u001b[49m\u001b[38;5;241;43m0\u001b[39;49m)\n",
      "\u001b[1;31mZeroDivisionError\u001b[0m: division by zero"
     ]
    }
   ],
   "source": [
    "print(2024 / 0)"
   ]
  },
  {
   "cell_type": "code",
   "execution_count": 24,
   "metadata": {},
   "outputs": [
    {
     "name": "stdout",
     "output_type": "stream",
     "text": [
      "12\n",
      "0으로는 나눌 수 없습니다.\n"
     ]
    }
   ],
   "source": [
    "try:\n",
    "    test_list = [2024, 12, 26]\n",
    "    print(test_list[1])\n",
    "\n",
    "    print(2024 / 0)\n",
    "\n",
    "except IndexError:\n",
    "    print('인덱싱 범위를 초과하였습니다.')\n",
    "\n",
    "except ZeroDivisionError:\n",
    "    print('0으로는 나눌 수 없습니다.')"
   ]
  },
  {
   "cell_type": "code",
   "execution_count": 35,
   "metadata": {},
   "outputs": [
    {
     "name": "stdout",
     "output_type": "stream",
     "text": [
      "12\n",
      "2024.0\n",
      "else는 언제 실행될까요? 예외가 발생할지 않았을 때! (try 내 구문이 정상 동작했을 때)\n",
      "finally는 언제 실행될까요? 언제나!\n"
     ]
    }
   ],
   "source": [
    "try:\n",
    "    idx = int(input('index 숫자: '))\n",
    "    test_list = [2024, 12, 26]\n",
    "    print(test_list[idx])\n",
    "\n",
    "    num = int(input('나누는 수: '))\n",
    "    print(2024 / num)\n",
    "\n",
    "except IndexError:\n",
    "    print('인덱싱 범위를 초과하였습니다.')\n",
    "\n",
    "except ZeroDivisionError:\n",
    "    print('0으로는 나눌 수 없습니다.')\n",
    "\n",
    "else:\n",
    "    print('else는 언제 실행될까요? 예외가 발생하하지 않았을 때! (try 내 구문이 정상 동작했을 때)')\n",
    "\n",
    "finally:\n",
    "    print('finally는 언제 실행될까요? 언제나!')     # 정상/비정상 작동 모두에서 실행됨."
   ]
  },
  {
   "cell_type": "markdown",
   "metadata": {},
   "source": [
    "---"
   ]
  },
  {
   "cell_type": "markdown",
   "metadata": {},
   "source": [
    "### 실습"
   ]
  },
  {
   "cell_type": "markdown",
   "metadata": {},
   "source": [
    "### **문제 1: 모든 예외 처리**\n",
    "\n",
    "다람쥐는 파일에서 데이터를 읽으려고 하지만, 파일이 없을 경우 프로그램이 중단되지 않도록 처리하고 싶습니다.\n",
    "\n",
    "1. `data.txt` 파일을 읽으려고 시도하세요.\n",
    "2. 파일이 없을 경우, `\"파일이 존재하지 않습니다.\"`를 출력하세요.\n",
    "3. 파일이 존재하면 파일 내용을 출력하세요."
   ]
  },
  {
   "cell_type": "code",
   "execution_count": 75,
   "metadata": {},
   "outputs": [
    {
     "name": "stdout",
     "output_type": "stream",
     "text": [
      "안녕 디지몬~\n"
     ]
    }
   ],
   "source": [
    "try:\n",
    "    f = open(\"data.txt\", \"r\", encoding='utf-8')\n",
    "    print(f.read())\n",
    "\n",
    "except:\n",
    "    print(\"파일이 존재하지 않습니다.\")"
   ]
  },
  {
   "cell_type": "code",
   "execution_count": 25,
   "metadata": {},
   "outputs": [
    {
     "name": "stdout",
     "output_type": "stream",
     "text": [
      "파일이 존재하지 않습니다.\n"
     ]
    }
   ],
   "source": [
    "try:\n",
    "    f= open(\"data.txt\", \"r\", encoding=\"utf-8\")\n",
    "    print(f.read())\n",
    "\n",
    "except:\n",
    "    print('파일이 존재하지 않습니다.')\n"
   ]
  },
  {
   "cell_type": "code",
   "execution_count": 33,
   "metadata": {},
   "outputs": [
    {
     "name": "stdout",
     "output_type": "stream",
     "text": [
      "파일이 존재하지 않습니다.\n"
     ]
    }
   ],
   "source": [
    "\n",
    "try:\n",
    "\n",
    "    f = open(\"data.txt\", \"r\", encoding='utf-8')\n",
    "    print(f.read())\n",
    "\n",
    "except:\n",
    "    print('파일이 존재하지 않습니다.')\n"
   ]
  },
  {
   "cell_type": "markdown",
   "metadata": {},
   "source": [
    "### **문제 2: 특정 예외 처리**\n",
    "\n",
    "다람쥐는 사용자에게 나이를 입력받아 성인인지 확인하려고 합니다.\n",
    "\n",
    "1. 사용자로부터 나이를 입력받아 정수로 변환하세요.\n",
    "2. 입력값이 숫자가 아닐 경우, `\"숫자를 입력해야 합니다.\"`를 출력하세요.\n",
    "3. 숫자가 올바르게 입력되면 나이가 19 이상인지 확인하고, 19 이상이면 `\"성인입니다.\"`, 그렇지 않으면 `\"미성년자입니다.\"`를 출력하세요."
   ]
  },
  {
   "cell_type": "code",
   "execution_count": 1,
   "metadata": {},
   "outputs": [
    {
     "name": "stdout",
     "output_type": "stream",
     "text": [
      "숫자를 입력해야 합니다.\n"
     ]
    }
   ],
   "source": [
    "try:\n",
    "    age = int(input(\"나이를 입력하세요: \"))\n",
    "    if age >= 19:\n",
    "        print(\"성인입니다.\")\n",
    "    else:\n",
    "        print(\"미성년자입니다.\")\n",
    "\n",
    "except:\n",
    "    print(\"숫자를 입력해야 합니다.\")\n",
    "\n",
    "\n",
    "\n",
    "\n"
   ]
  },
  {
   "cell_type": "code",
   "execution_count": 28,
   "metadata": {},
   "outputs": [
    {
     "name": "stdout",
     "output_type": "stream",
     "text": [
      "숫자만 입력하세요\n"
     ]
    }
   ],
   "source": [
    "try:\n",
    "    age = int(input(\"나이를 입력하세요: \"))\n",
    "    if age >= 19:\n",
    "        print(\"성인입니다.\")\n",
    "    else:\n",
    "        print(\"미성년자입니다.\")\n",
    "\n",
    "\n",
    "except:\n",
    "    print(\"숫자만 입력하세요\")\n",
    "\n",
    "\n",
    "\n",
    "\n"
   ]
  },
  {
   "cell_type": "code",
   "execution_count": 64,
   "metadata": {},
   "outputs": [
    {
     "name": "stdout",
     "output_type": "stream",
     "text": [
      "성인입니다.\n"
     ]
    }
   ],
   "source": [
    "try:\n",
    "    age = int(input(\"나이를 입력하세요: \"))\n",
    "\n",
    "    if age >= 19:\n",
    "        print('성인입니다.')\n",
    "        \n",
    "    else:\n",
    "        print('미성년자입니다.')\n",
    "\n",
    "except ValueError:\n",
    "    print(\"숫자를 입력해야 합니다.\")\n",
    "\n",
    "\n",
    "\n",
    "\n"
   ]
  },
  {
   "cell_type": "markdown",
   "metadata": {},
   "source": [
    "### **문제 3: 특수 예외 상황과 오류 변수 사용**\n",
    "\n",
    "다람쥐는 숫자 두 개를 입력받아 나누기를 수행하려고 합니다.\n",
    "\n",
    "1. 사용자로부터 두 숫자를 입력받아 나누기를 수행하세요.\n",
    "2. 첫 번째 숫자가 0으로 나누기를 시도하면 `\"0으로 나눌 수 없습니다.\"`를 출력하세요.\n",
    "3. 입력값이 숫자가 아니면 `\"숫자를 입력해야 합니다.\"`를 출력하세요.\n",
    "4. 오류 메시지를 출력할 때 발생한 오류 내용을 함께 출력하세요."
   ]
  },
  {
   "cell_type": "code",
   "execution_count": 3,
   "metadata": {},
   "outputs": [
    {
     "name": "stdout",
     "output_type": "stream",
     "text": [
      "0으로 나눌 수 없습니다. division by zero\n"
     ]
    }
   ],
   "source": [
    "\n",
    "try:\n",
    "    num1 = int(input(\"숫자1을 입력하세요: \"))\n",
    "    num2 = int(input(\"숫자2을 입력하세요: \"))\n",
    "    new_num = num1 / num2\n",
    "\n",
    "except ZeroDivisionError as e:\n",
    "    print(\"0으로 나눌 수 없습니다.\", e)\n",
    "\n",
    "except ValueError as e:\n",
    "    print(\"숫자를 입력해야 합니다.\", e)\n",
    "\n",
    "\n"
   ]
  },
  {
   "cell_type": "code",
   "execution_count": 93,
   "metadata": {},
   "outputs": [
    {
     "name": "stdout",
     "output_type": "stream",
     "text": [
      "0.0\n"
     ]
    }
   ],
   "source": [
    "try:\n",
    "    number1 = int(input(\"숫자1을 입력하세요: \"))\n",
    "    number2 = int(input(\"숫자2를 입력하세요: \"))\n",
    "    print(number1 / number2)\n",
    "\n",
    "except ValueError as e:\n",
    "    print(\"숫자를 입력해야 합니다.\", e)\n",
    "\n",
    "except ZeroDivisionError as e:\n",
    "    print(\"0으로 나눌 수 없습니다.\", e)\n",
    "\n",
    "\n"
   ]
  },
  {
   "cell_type": "markdown",
   "metadata": {},
   "source": [
    "### **문제 4: finally 블럭**\n",
    "\n",
    "다람쥐는 프로그램 실행 후 파일 자원을 반드시 정리해야 합니다.\n",
    "\n",
    "1. `log.txt` 파일을 읽으려고 시도하세요.\n",
    "2. 파일을 여는 중 예외가 발생할 경우, `\"파일을 열 수 없습니다.\"`를 출력하세요.\n",
    "3. 예외 발생 여부와 상관없이 파일 자원을 정리하는 메시지 `\"파일 자원 정리 완료\"`를 출력하세요."
   ]
  },
  {
   "cell_type": "code",
   "execution_count": 98,
   "metadata": {},
   "outputs": [
    {
     "name": "stdout",
     "output_type": "stream",
     "text": [
      "파일을 열 수 없습니다.\n",
      "파일 자원 정리 완료\n"
     ]
    }
   ],
   "source": [
    "\n",
    "\n",
    "try:\n",
    "    log = open(\"log.txt\", \"r\", encoding='utf-8')\n",
    "    print(log.read())\n",
    "\n",
    "except FileNotFoundError:\n",
    "    print(\"파일을 열 수 없습니다.\")\n",
    "\n",
    "finally:\n",
    "    print(\"파일 자원 정리 완료\")\n",
    "\n"
   ]
  },
  {
   "cell_type": "code",
   "execution_count": 78,
   "metadata": {},
   "outputs": [
    {
     "name": "stdout",
     "output_type": "stream",
     "text": [
      "파일을 열 수 없습니다.\n",
      "파일 자원 정리 완료\n"
     ]
    }
   ],
   "source": [
    "f = None        \n",
    "\n",
    "try:\n",
    "    f = open(\"log.txt\", \"r\", encoding=\"utf-8\")\n",
    "    print(f.read())\n",
    "\n",
    "except FileNotFoundError:\n",
    "    print('파일을 열 수 없습니다.')\n",
    "\n",
    "finally:\n",
    "    if f:\n",
    "        f.close()\n",
    "\n",
    "    print(\"파일 자원 정리 완료\")\n",
    "\n",
    "    "
   ]
  },
  {
   "cell_type": "markdown",
   "metadata": {},
   "source": [
    "### **문제 5: try-else 블럭**\n",
    "\n",
    "다람쥐는 사용자로부터 숫자를 입력받아 2로 나눈 결과를 출력하려고 합니다.\n",
    "\n",
    "1. 사용자로부터 숫자를 입력받아 정수로 변환하세요.\n",
    "2. 입력값이 숫자가 아닐 경우 `\"숫자를 입력해야 합니다.\"`를 출력하세요.\n",
    "3. 숫자가 올바르게 입력되면 입력값을 2로 나눈 결과를 출력하세요."
   ]
  },
  {
   "cell_type": "code",
   "execution_count": 4,
   "metadata": {},
   "outputs": [
    {
     "name": "stdout",
     "output_type": "stream",
     "text": [
      "1.5\n"
     ]
    }
   ],
   "source": [
    "try:\n",
    "    user_num = int(input(\"정수를 입력하세요: \"))\n",
    "    user_num2 = user_num / 2\n",
    "    print(user_num2)\n",
    "\n",
    "except ValueError:\n",
    "    print(\"숫자를 입력하세요\")\n",
    "\n",
    "\n",
    "\n"
   ]
  },
  {
   "cell_type": "code",
   "execution_count": 54,
   "metadata": {},
   "outputs": [
    {
     "name": "stdout",
     "output_type": "stream",
     "text": [
      "숫자를 입력해야 합니다.\n"
     ]
    }
   ],
   "source": [
    "try:\n",
    "    num = int(input(\"숫자를 입력하세요\"))\n",
    "\n",
    "except ValueError:\n",
    "    print(\"숫자를 입력해야 합니다.\")\n",
    "\n",
    "else:\n",
    "    print(num / 2)\n"
   ]
  },
  {
   "cell_type": "code",
   "execution_count": 22,
   "metadata": {},
   "outputs": [
    {
     "name": "stdout",
     "output_type": "stream",
     "text": [
      "내부에 없는 값입니다.\n",
      "종료\n"
     ]
    }
   ],
   "source": [
    "numbers = [52, 377, 80, 9, 45]\n",
    "\n",
    "num = 100\n",
    "\n",
    "try:\n",
    "    print(f\"{numbers.index(num)}번째 숫자입니다.\")\n",
    "\n",
    "except ValueError:\n",
    "    print(\"내부에 없는 값입니다.\")\n",
    "\n",
    "print(\"종료\")"
   ]
  },
  {
   "cell_type": "code",
   "execution_count": 56,
   "metadata": {},
   "outputs": [
    {
     "name": "stdout",
     "output_type": "stream",
     "text": [
      "division by zero\n"
     ]
    }
   ],
   "source": [
    "try:\n",
    "    4 / 0\n",
    "except ZeroDivisionError as e:\n",
    "    print(e)"
   ]
  },
  {
   "cell_type": "code",
   "execution_count": 72,
   "metadata": {},
   "outputs": [
    {
     "name": "stdout",
     "output_type": "stream",
     "text": [
      "입력한 나이: 600\n"
     ]
    },
    {
     "ename": "Exception",
     "evalue": "거북이여뭐여~",
     "output_type": "error",
     "traceback": [
      "\u001b[1;31m---------------------------------------------------------------------------\u001b[0m",
      "\u001b[1;31mException\u001b[0m                                 Traceback (most recent call last)",
      "Cell \u001b[1;32mIn[72], line 5\u001b[0m\n\u001b[0;32m      3\u001b[0m \u001b[38;5;28;01mif\u001b[39;00m age \u001b[38;5;241m>\u001b[39m \u001b[38;5;241m500\u001b[39m:\n\u001b[0;32m      4\u001b[0m     \u001b[38;5;28mprint\u001b[39m(\u001b[38;5;124mf\u001b[39m\u001b[38;5;124m\"\u001b[39m\u001b[38;5;124m입력한 나이: \u001b[39m\u001b[38;5;132;01m{\u001b[39;00mage\u001b[38;5;132;01m}\u001b[39;00m\u001b[38;5;124m\"\u001b[39m)\n\u001b[1;32m----> 5\u001b[0m     \u001b[38;5;28;01mraise\u001b[39;00m \u001b[38;5;167;01mException\u001b[39;00m(\u001b[38;5;124m\"\u001b[39m\u001b[38;5;124m거북이여뭐여~\u001b[39m\u001b[38;5;124m\"\u001b[39m)\n\u001b[0;32m      7\u001b[0m \u001b[38;5;28mprint\u001b[39m(\u001b[38;5;124mf\u001b[39m\u001b[38;5;124m\"\u001b[39m\u001b[38;5;124m입력한 나이: \u001b[39m\u001b[38;5;132;01m{\u001b[39;00mage\u001b[38;5;132;01m}\u001b[39;00m\u001b[38;5;124m, 아직 젊고만~ \u001b[39m\u001b[38;5;124m\"\u001b[39m)\n",
      "\u001b[1;31mException\u001b[0m: 거북이여뭐여~"
     ]
    }
   ],
   "source": [
    "age = int(input(\"나이를 입력하세요: \"))\n",
    "\n",
    "if age > 500:\n",
    "    print(f\"입력한 나이: {age}\")\n",
    "    raise Exception(\"거북이여뭐여~\")\n",
    "\n",
    "print(f\"입력한 나이: {age}, 아직 젊고만~ \")"
   ]
  }
 ],
 "metadata": {
  "kernelspec": {
   "display_name": "pystudy_env",
   "language": "python",
   "name": "python3"
  },
  "language_info": {
   "codemirror_mode": {
    "name": "ipython",
    "version": 3
   },
   "file_extension": ".py",
   "mimetype": "text/x-python",
   "name": "python",
   "nbconvert_exporter": "python",
   "pygments_lexer": "ipython3",
   "version": "3.12.8"
  }
 },
 "nbformat": 4,
 "nbformat_minor": 2
}
