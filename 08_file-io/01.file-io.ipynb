{
 "cells": [
  {
   "cell_type": "markdown",
   "metadata": {},
   "source": [
    "### 파일 입출력"
   ]
  },
  {
   "cell_type": "code",
   "execution_count": 6,
   "metadata": {},
   "outputs": [
    {
     "ename": "FileNotFoundError",
     "evalue": "[Errno 2] No such file or directory: 'abc/test.txt'",
     "output_type": "error",
     "traceback": [
      "\u001b[1;31m---------------------------------------------------------------------------\u001b[0m",
      "\u001b[1;31mFileNotFoundError\u001b[0m                         Traceback (most recent call last)",
      "Cell \u001b[1;32mIn[6], line 1\u001b[0m\n\u001b[1;32m----> 1\u001b[0m f1 \u001b[38;5;241m=\u001b[39m \u001b[38;5;28;43mopen\u001b[39;49m\u001b[43m(\u001b[49m\u001b[38;5;124;43m'\u001b[39;49m\u001b[38;5;124;43mabc/test.txt\u001b[39;49m\u001b[38;5;124;43m'\u001b[39;49m\u001b[43m,\u001b[49m\u001b[43m \u001b[49m\u001b[38;5;124;43m'\u001b[39;49m\u001b[38;5;124;43mw\u001b[39;49m\u001b[38;5;124;43m'\u001b[39;49m\u001b[43m)\u001b[49m\n\u001b[0;32m      3\u001b[0m f1\u001b[38;5;241m.\u001b[39mwrite(\u001b[38;5;124m'\u001b[39m\u001b[38;5;124m오늘의 점심 메뉴: 삶은 달걀과 고구마\u001b[39m\u001b[38;5;124m'\u001b[39m)\n\u001b[0;32m      4\u001b[0m f1\u001b[38;5;241m.\u001b[39mwrite(\u001b[38;5;124m'\u001b[39m\u001b[38;5;130;01m\\n\u001b[39;00m\u001b[38;5;124m[오늘의 점심 메뉴]\u001b[39m\u001b[38;5;130;01m\\n\u001b[39;00m\u001b[38;5;124m삶은 달걀과 고구마\u001b[39m\u001b[38;5;124m'\u001b[39m)\n",
      "File \u001b[1;32mc:\\Users\\Playdata\\AppData\\Local\\anaconda3\\envs\\pystudy_env\\Lib\\site-packages\\IPython\\core\\interactiveshell.py:324\u001b[0m, in \u001b[0;36m_modified_open\u001b[1;34m(file, *args, **kwargs)\u001b[0m\n\u001b[0;32m    317\u001b[0m \u001b[38;5;28;01mif\u001b[39;00m file \u001b[38;5;129;01min\u001b[39;00m {\u001b[38;5;241m0\u001b[39m, \u001b[38;5;241m1\u001b[39m, \u001b[38;5;241m2\u001b[39m}:\n\u001b[0;32m    318\u001b[0m     \u001b[38;5;28;01mraise\u001b[39;00m \u001b[38;5;167;01mValueError\u001b[39;00m(\n\u001b[0;32m    319\u001b[0m         \u001b[38;5;124mf\u001b[39m\u001b[38;5;124m\"\u001b[39m\u001b[38;5;124mIPython won\u001b[39m\u001b[38;5;124m'\u001b[39m\u001b[38;5;124mt let you open fd=\u001b[39m\u001b[38;5;132;01m{\u001b[39;00mfile\u001b[38;5;132;01m}\u001b[39;00m\u001b[38;5;124m by default \u001b[39m\u001b[38;5;124m\"\u001b[39m\n\u001b[0;32m    320\u001b[0m         \u001b[38;5;124m\"\u001b[39m\u001b[38;5;124mas it is likely to crash IPython. If you know what you are doing, \u001b[39m\u001b[38;5;124m\"\u001b[39m\n\u001b[0;32m    321\u001b[0m         \u001b[38;5;124m\"\u001b[39m\u001b[38;5;124myou can use builtins\u001b[39m\u001b[38;5;124m'\u001b[39m\u001b[38;5;124m open.\u001b[39m\u001b[38;5;124m\"\u001b[39m\n\u001b[0;32m    322\u001b[0m     )\n\u001b[1;32m--> 324\u001b[0m \u001b[38;5;28;01mreturn\u001b[39;00m \u001b[43mio_open\u001b[49m\u001b[43m(\u001b[49m\u001b[43mfile\u001b[49m\u001b[43m,\u001b[49m\u001b[43m \u001b[49m\u001b[38;5;241;43m*\u001b[39;49m\u001b[43margs\u001b[49m\u001b[43m,\u001b[49m\u001b[43m \u001b[49m\u001b[38;5;241;43m*\u001b[39;49m\u001b[38;5;241;43m*\u001b[39;49m\u001b[43mkwargs\u001b[49m\u001b[43m)\u001b[49m\n",
      "\u001b[1;31mFileNotFoundError\u001b[0m: [Errno 2] No such file or directory: 'abc/test.txt'"
     ]
    }
   ],
   "source": [
    "f1 = open('abc/test.txt', 'w')\n",
    "\n",
    "f1.write('오늘의 점심 메뉴: 삶은 달걀과 고구마')\n",
    "f1.write('\\n[오늘의 점심 메뉴]\\n삶은 달걀과 고구마')\n",
    "\n",
    "f1.close()"
   ]
  },
  {
   "cell_type": "code",
   "execution_count": 1,
   "metadata": {},
   "outputs": [],
   "source": [
    "new_txt = open(\"hello\", \"w\")\n",
    "\n",
    "new_txt.write(\"안녕하세요?\")\n",
    "\n",
    "new_txt.close()"
   ]
  },
  {
   "cell_type": "code",
   "execution_count": 1,
   "metadata": {},
   "outputs": [],
   "source": [
    "new_txt = open(\"hello.txt\", \"w\", encoding='utf-8')\n",
    "\n",
    "hello2 = (\"피카츄\\n\", \"d\\n\", \"파이리\", \"꼬부기\\n\")\n",
    "\n",
    "new_txt.writelines(hello2)\n",
    "\n",
    "new_txt.close()"
   ]
  },
  {
   "cell_type": "code",
   "execution_count": 3,
   "metadata": {},
   "outputs": [],
   "source": [
    "new_txt = open(\"hello33333.txt\", \"w\", encoding='utf-8')\n",
    "\n",
    "hello2 = \"피카츄\\n\", \"d\\n\", \"파이리\", \"꼬부기\\n\"\n",
    "\n",
    "new_txt.writelines(hello2)\n",
    "\n",
    "new_txt.close()"
   ]
  },
  {
   "cell_type": "code",
   "execution_count": 9,
   "metadata": {},
   "outputs": [],
   "source": [
    "f2 = open('our_song.txt', 'w')\n",
    "\n",
    "our_song = ['공주의 규칙\\n', '나를 사랑하기\\n', '남도 사랑하기\\n',\n",
    "            '삶을 사랑하기\\n', '여유 잃지 않기\\n', '미소 잃지 않기\\n']\n",
    "\n",
    "f2.writelines(our_song)\n",
    "\n",
    "f2.close()"
   ]
  },
  {
   "cell_type": "code",
   "execution_count": 24,
   "metadata": {},
   "outputs": [
    {
     "name": "stdout",
     "output_type": "stream",
     "text": [
      "f3_readlines ['공주의 규칙\\n', '나를 사랑하기\\n', '남도 사랑하기\\n', '삶을 사랑하기\\n', '여유 잃지 않기\\n', '미소 잃지 않기\\n']\n"
     ]
    }
   ],
   "source": [
    "f3 = open(\"our_song.txt\", \"r\", encoding=\"utf-8\")\n",
    "\n",
    "# f3_read1 = f3.read()\n",
    "# f3_readline = f3.readline()\n",
    "f3_readlines = f3.readlines()\n",
    "\n",
    "# print(\"f3_read1\", f3_read1, type(f3_read1))\n",
    "# print(\"f3_readline\", f3_readline, type(f3_readline))\n",
    "print(\"f3_readlines\", f3_readlines)\n",
    "\n",
    "\n",
    "f3.close()"
   ]
  },
  {
   "cell_type": "code",
   "execution_count": 33,
   "metadata": {},
   "outputs": [
    {
     "name": "stdout",
     "output_type": "stream",
     "text": [
      "['피카츄\\n', '라이츄\\n', '파이리꼬부기\\n']\n"
     ]
    }
   ],
   "source": [
    "h3 = open(\"hello.txt\", \"r\", encoding=\"utf-8\")\n",
    "\n",
    "h3_readlines = h3.readlines()\n",
    "\n",
    "print(h3_readlines)\n",
    "\n",
    "h3.close()"
   ]
  },
  {
   "cell_type": "code",
   "execution_count": 22,
   "metadata": {},
   "outputs": [],
   "source": [
    "f4 = open(\"our_song.txt\" , \"a\", encoding=\"utf8\")    # append 모드, 끝에 덧붙여쓰기\n",
    "\n",
    "f4.write(\"노래 끝!\")\n",
    "\n",
    "f4.close()"
   ]
  },
  {
   "cell_type": "code",
   "execution_count": null,
   "metadata": {},
   "outputs": [],
   "source": [
    "with open(\"new_test.txt\", \"w\", encoding=\"utf8\") as f:       # with 구문은 자동으로 close됨\n",
    "    f.write(\"오늘은 파이썬\\n\")\n",
    "    f.write(\"내일은 Strealit\\n\")\n",
    "    f.write(\"다음 주부터는 데이터베이스!\")"
   ]
  },
  {
   "cell_type": "markdown",
   "metadata": {},
   "source": [
    "---"
   ]
  },
  {
   "cell_type": "markdown",
   "metadata": {},
   "source": [
    "### 실습"
   ]
  },
  {
   "cell_type": "markdown",
   "metadata": {},
   "source": [
    "### **문제 1: `.txt` 파일 생성 및 쓰기**\n",
    "\n",
    "다람쥐는 하루 동안 배운 내용을 기록하기 위해 일기를 작성합니다. 다음 작업을 수행하세요.\n",
    "\n",
    "1. `diary.txt` 파일을 생성하고, 다람쥐가 오늘 배운 내용을 작성하세요.\n",
    "2. 내용:\n",
    "    \n",
    "    ```\n",
    "    오늘은 파일 입출력을 배웠습니다.\n",
    "    다양한 파일 확장자와 접근 모드를 사용할 수 있다는 점이 흥미로웠습니다.\n",
    "    ```\n",
    "    \n",
    "3. 파일을 닫고 다시 열어 작성된 내용을 출력하세요."
   ]
  },
  {
   "cell_type": "code",
   "execution_count": 52,
   "metadata": {},
   "outputs": [
    {
     "name": "stdout",
     "output_type": "stream",
     "text": [
      "오늘은 파일 입출력을 배웠습니다.\n",
      "다양한 파일 확장자와 접근 모드를 사용할 수 있다는 점이 흥미로웠습니다.\n"
     ]
    }
   ],
   "source": [
    "d = open(\"diary.txt\", \"w\", encoding='utf-8')\n",
    "d.write(\"오늘은 파일 입출력을 배웠습니다.\\n\" \"다양한 파일 확장자와 접근 모드를 사용할 수 있다는 점이 흥미로웠습니다.\")\n",
    "d.close()\n",
    "\n",
    "d = open(\"diary.txt\", \"r\", encoding='utf-8')\n",
    "print(d.read())\n",
    "d.close()"
   ]
  },
  {
   "cell_type": "markdown",
   "metadata": {},
   "source": [
    "### **문제 2: `.csv` 파일 생성 및 읽기**\n",
    "\n",
    "다람쥐는 이직 준비를 위해 지원했던 회사들의 정보를 저장하려고 합니다.\n",
    "\n",
    "1. `applications.csv` 파일을 생성하고 다음 데이터를 작성하세요.\n",
    "    \n",
    "    ```\n",
    "    회사명,직무,결과\n",
    "    회사A,데이터 분석가,합격\n",
    "    회사B,소프트웨어 엔지니어,불합격\n",
    "    회사C,제품 관리자,진행 중\n",
    "    ```\n",
    "    \n",
    "2. 파일을 닫고 다시 열어 모든 데이터를 출력하세요."
   ]
  },
  {
   "cell_type": "code",
   "execution_count": 10,
   "metadata": {},
   "outputs": [
    {
     "name": "stdout",
     "output_type": "stream",
     "text": [
      "회사명, 직무, 결과\n",
      "\n",
      "회사A, 데이터 분석가, 합격\n",
      "\n",
      "회사B, 소프트웨어 엔지니어, 불합격\n",
      "\n",
      "회사C, 제품 관리자, 진행 중\n",
      "\n"
     ]
    }
   ],
   "source": [
    "import csv\n",
    "\n",
    "with open(\"applications.csv\", \"w\", encoding='utf-8') as f:\n",
    "    writer = csv.writer(f)\n",
    "    writer.writerow(['회사명', '직무','결과'])\n",
    "    writer.writerow(['회사A', '데이터 분석가','합격'])\n",
    "    writer.writerow(['회사B','소프트웨어 엔지니어', '불합격'])\n",
    "    writer.writerow(['회사C', '제품 관리자', '진행 중'])\n",
    "\n",
    "with open(\"applications.csv\", \"r\", encoding='utf-8') as f:\n",
    "    reader = csv.reader(f)\n",
    "    for row in reader:\n",
    "        print(\", \".join(row))\n"
   ]
  },
  {
   "cell_type": "markdown",
   "metadata": {},
   "source": [
    "### **문제 3: `.log` 파일 읽기**\n",
    "\n",
    "다람쥐는 프로그램 실행 로그를 확인하려고 합니다.\n",
    "\n",
    "1. `system.log` 파일을 다음 내용으로 생성하세요.\n",
    "    \n",
    "    ```\n",
    "    [INFO] 2024-01-01 12:00:00: 시스템 시작\n",
    "    [WARN] 2024-01-01 12:05:00: 메모리 사용량 증가\n",
    "    [ERROR] 2024-01-01 12:10:00: 프로그램 종료\n",
    "    ```\n",
    "    \n",
    "2. 파일을 읽어와 `WARN` 또는 `ERROR`가 포함된 줄만 출력하세요."
   ]
  },
  {
   "cell_type": "code",
   "execution_count": 75,
   "metadata": {},
   "outputs": [
    {
     "name": "stdout",
     "output_type": "stream",
     "text": [
      " [WARN] 2024-01-01 12:05:00: 메모리 사용량 증가\n",
      "\n",
      " [ERROR] 2024-01-01 12:10:00: 프로그램 종료\n"
     ]
    }
   ],
   "source": [
    "f = open(\"system.log\", \"w\", encoding='utf-8')\n",
    "log_content = [\n",
    "    \" [INFO] 2024-01-01 12:00:00: 시스템 시작\\n\",\n",
    "    \" [WARN] 2024-01-01 12:05:00: 메모리 사용량 증가\\n\"\n",
    "    \" [ERROR] 2024-01-01 12:10:00: 프로그램 종료\"\n",
    "]\n",
    "\n",
    "f.writelines(log_content)\n",
    "f.close()\n",
    "\n",
    "\n",
    "f = open('system.log', 'r', encoding='utf-8')\n",
    "for line in f:\n",
    "    if \"WARN\" in line or \"ERROR\" in line:\n",
    "        print(line)\n",
    "f.close()\n"
   ]
  }
 ],
 "metadata": {
  "kernelspec": {
   "display_name": "pystudy_env",
   "language": "python",
   "name": "python3"
  },
  "language_info": {
   "codemirror_mode": {
    "name": "ipython",
    "version": 3
   },
   "file_extension": ".py",
   "mimetype": "text/x-python",
   "name": "python",
   "nbconvert_exporter": "python",
   "pygments_lexer": "ipython3",
   "version": "3.12.8"
  }
 },
 "nbformat": 4,
 "nbformat_minor": 2
}
